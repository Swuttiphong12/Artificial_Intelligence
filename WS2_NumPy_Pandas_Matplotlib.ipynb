{
  "nbformat": 4,
  "nbformat_minor": 0,
  "metadata": {
    "colab": {
      "provenance": [],
      "include_colab_link": true
    },
    "kernelspec": {
      "name": "python3",
      "display_name": "Python 3"
    }
  },
  "cells": [
    {
      "cell_type": "markdown",
      "metadata": {
        "id": "view-in-github",
        "colab_type": "text"
      },
      "source": [
        "<a href=\"https://colab.research.google.com/github/Wuttiphog12/Artificial_Intelligence/blob/main/WS2_NumPy_Pandas_Matplotlib.ipynb\" target=\"_parent\"><img src=\"https://colab.research.google.com/assets/colab-badge.svg\" alt=\"Open In Colab\"/></a>"
      ]
    },
    {
      "cell_type": "markdown",
      "metadata": {
        "id": "zDmG--A6RZbA"
      },
      "source": [
        "#**Workshop 2**\n",
        "**[ไฟล์ Workshop II](https://drive.google.com/file/d/1-TqHlyOhZE61-tJ8uN889i-wL66XnWcQ/view?usp=sharing)**\n",
        "#**Introduction to NumPy, Pandas, and Matplotlib**\n",
        "\n",
        "Day 1 [22 July 2020]"
      ]
    },
    {
      "cell_type": "markdown",
      "metadata": {
        "id": "EvYGz6ISTZTJ"
      },
      "source": [
        "เขียนและเรียบเรียงโดย คุณครูพี่จ๊ะ (ดร.กาญจนา แสงทองพัฒนา )\n",
        "\n",
        "kanchana.sae@nectec.or.th\n",
        "\n",
        "สร้างเมื่อ 11 กรกฎาคม 2563\n",
        "\n",
        ">สำหรับการอบรมแบบออนไลน์ ภายใต้โครงการ การอบรบเรื่อง\n",
        "\n",
        "> \"**Introduction to machine learning with python**\"\n",
        "\n",
        "> ร่วมกับ ผศ.ดร. วันทนี ประจวบศุภกิจ และ ดร. ธนพล ตันติศรีปรีชา\n",
        "\n",
        ">>ให้กับนักศึกษา สาขาวิชาวิทยาการคอมพิวเตอร์ คณะวิทยาศาสตร์\n",
        "\n",
        ">>สถาบันเทคโนโลยีพระจอมเกล้าเจ้าคุณทหารลาดกระบัง\n",
        "\n",
        ">>วันที่ 22 - 24 กรกฎาคม 2563"
      ]
    },
    {
      "cell_type": "markdown",
      "metadata": {
        "id": "l9bQLM1UgLKb"
      },
      "source": [
        "'* *การเรียบเรียง เป็นการนำความรู้จากหลาย ๆ แหล่งข้อมูลที่มีอยู่แล้ว มาปรับใช้ ปรับการเขียน ให้เหมาะสมกับการให้ความรู้แก่นักศึกษาในการอบรมครั้งนี้ ขอขอบคุณ และขออนุญาต ทุกแหล่งความรู้ที่ได้นำมาใช้ ณ ที่นี้ด้วยค่ะ*"
      ]
    },
    {
      "cell_type": "markdown",
      "metadata": {
        "id": "oVqOEE2YTphf"
      },
      "source": [
        "# **บทนำ**\n",
        "ในหัวข้อนี้ นักศึกษาจะได้ทำความรู้จักกับ NumPy, Pandas, และ Matplotlib ซึ่งเป็น Library ของการเขียนโปรแกรมด้วยภาษา Python เพื่อนำไปใช้ประโยชน์ในงานด้าน Machine Learning อีกทั้ง Library ดังกล่าวถูกใช้อย่างแพร่หลายในงานด้าน data science ด้วย\n",
        "\n"
      ]
    },
    {
      "cell_type": "markdown",
      "source": [
        "# การนำเข้า Dataset File"
      ],
      "metadata": {
        "id": "vTvtHYTgBRqk"
      }
    },
    {
      "cell_type": "markdown",
      "source": [
        "\n",
        "เช่น ในตัวอย่าง google drive เก็บไฟล์ wine_data.csv ไว้ใน folder ชื่อ dataset\n",
        "\n",
        "จากนั้น เราจะทำการ drive mount\n",
        "\n",
        "drive mount\n",
        "เพื่อเชื่อมโยง google drive ของเรากับ coloab เพื่อให้โปรแกรมที่เราเขียน มองเห็นไฟล์ใน google drive ได้ จะได้อ้างอิงและนำข้อมูลมาใช้งาน\n",
        "\n",
        "เราใช้ from google.colab import drive ตามตัวอย่างนี้\n",
        "\n",
        "\n",
        "\n"
      ],
      "metadata": {
        "id": "qRrrDR8jApgN"
      }
    },
    {
      "cell_type": "code",
      "source": [
        "from google.colab import drive\n",
        "drive.mount('/content/drive') #ระวังเครื่องหมาย ‘ กับ ' ต่างกันนะคะ"
      ],
      "metadata": {
        "colab": {
          "base_uri": "https://localhost:8080/"
        },
        "id": "KPSitl_uA8hb",
        "outputId": "e2d53eb6-5967-4b65-c5e7-4551e5a47a41"
      },
      "execution_count": null,
      "outputs": [
        {
          "output_type": "stream",
          "name": "stdout",
          "text": [
            "Mounted at /content/drive\n"
          ]
        }
      ]
    },
    {
      "cell_type": "markdown",
      "source": [
        "ตอน run ด้านบนนี้ จะมีข้อความ เช่น\n",
        "\n",
        "Go to this URL in a browser: https://accounts.google.com/o/oauth2/auth?client_id=947xxxxxxxxfpeopleapi.readonly\n",
        "\n",
        "Enter your authorization code:\n",
        "\n",
        "ให้คลิกที่ link ดังกล่าว หน้าต่างของ google จะปรากฎขึ้นมาให้\n",
        "\n",
        "เพื่อให้เราอนุญาตให้ Google Drive File Stream มีการเข้าถึงบัญชี Google ของเราได้\n",
        "\n",
        "ให้ตอบตกลง\n",
        "\n",
        "จากนั้นจะปรากฎหน้าที่แสดงข้อความว่า\n",
        "\n",
        "\"\n",
        "\n",
        "ลงชื่อเข้าใช้งาน\n",
        "\n",
        "โปรดคัดลอกโค้ดนี้ไว้ สลับไปที่แอปพลิเคชันของคุณแล้ววางโค้ดลงไป:\n",
        "\n",
        "4/1wHM128b4roXxxxxxxxxxxxxxxxxxxxx\n",
        "\n",
        "\"\n",
        "\n",
        "ให้เรา copy โค้ท ของเรา เช่น 4/1wHM128b4roXxxxxxxxxxxxxxxxxxxxx**\n",
        "\n",
        "มาวางในช่อง\n",
        "\n",
        "Enter your authorization code:\n",
        "\n",
        "เมื่อ run เสร็จเรียบร้อยแล้วจะมีข้อความ\n",
        "\n",
        "Mounted at /content/drive\n",
        "\n",
        "จากนั้น ให้สังเกตที่ด้านซ้ายมือของหน้าต่าง colab มีสัญลักษณ์รูป Folder Files\n",
        "\n",
        "ให้คลิกเลือกที่สัญลักษณ์ดังกล่าว จากนั้น colab จะแสดงรายการ drive และ files ต่างๆ\n",
        "\n",
        "ให้เราเลือกเข้าไปที่ files ที่ต้องการ เมื่อเจอแล้ว ให้คลิกขวาที่ไฟล์นั้่น แล้วเลือก copy path เอาไปวางใน code ตัวอย่างด้านล่างต่อจากนี้\n",
        "\n",
        "ถ้านักศึกษา มองภาพไม่ออก ขอให้ดูตัวอย่างได้จากคลิปในยูทูปนี้ นะคะ\n",
        "\n",
        "https://www.youtube.com/watch?v=TDyfhlg23vs&feature=youtu.be\n",
        "\n",
        "ขอขอบคุณคลิปนี้ด้วยค่ะ\n",
        "\n",
        "** หากเกิดปัญหา มองไม่เห็น drive **\n",
        "\n",
        "ให้สังเกต ด้านซ้ายมือของหน้าต่าง colab มีสัญลักษณ์รูป Folder\n",
        "\n",
        "เมื่อคลิกเลือกเข้าไป จะมีสัญลักษณ์ในรูป Folder 3 แบบ แบบที่มีหัวลูกศรขึ้น (upload), แบบมีหัวลูกศรวน (refresh), และแบบมีสัญสามเหลี่ยมใน folder (munt drive)\n",
        "\n",
        "หากสัญลักษณ์รูป Folder แบบมีสามเหลี่ยมใน folder (mount drive) ไม่มีขีดทับบนสัญลักษณ์ ให้กดที่รูปนั้น เพื่อให้เกิดการ mount drive ก็จะมองเห็น folder แสดง path content > drive > My Drive > และ folder หรือ file ใน Google Drive ของตัวเราเอง ได้\n"
      ],
      "metadata": {
        "id": "YkTw1OysA856"
      }
    },
    {
      "cell_type": "code",
      "source": [
        "import pandas as pd\n",
        "path = '/content/drive/MyDrive/AI/dataset/wine_data - wine_data.csv'\n",
        "myfiledata = pd.read_csv(path) ## Dataset is now stored in a Pandas Dataframe\n",
        "myfiledata"
      ],
      "metadata": {
        "colab": {
          "base_uri": "https://localhost:8080/",
          "height": 424
        },
        "id": "2xIxJPTtkvTA",
        "outputId": "c25b91c3-a858-4028-ed75-419b0d2a2e3a"
      },
      "execution_count": null,
      "outputs": [
        {
          "output_type": "execute_result",
          "data": {
            "text/plain": [
              "     1  14.23  1.71  2.43  15.6  127   2.8  3.06  0.28  2.29   5.64  1.04  \\\n",
              "0    1  13.20  1.78  2.14  11.2  100  2.65  2.76  0.26  1.28   4.38  1.05   \n",
              "1    1  13.16  2.36  2.67  18.6  101  2.80  3.24  0.30  2.81   5.68  1.03   \n",
              "2    1  14.37  1.95  2.50  16.8  113  3.85  3.49  0.24  2.18   7.80  0.86   \n",
              "3    1  13.24  2.59  2.87  21.0  118  2.80  2.69  0.39  1.82   4.32  1.04   \n",
              "4    1  14.20  1.76  2.45  15.2  112  3.27  3.39  0.34  1.97   6.75  1.05   \n",
              "..  ..    ...   ...   ...   ...  ...   ...   ...   ...   ...    ...   ...   \n",
              "172  3  13.71  5.65  2.45  20.5   95  1.68  0.61  0.52  1.06   7.70  0.64   \n",
              "173  3  13.40  3.91  2.48  23.0  102  1.80  0.75  0.43  1.41   7.30  0.70   \n",
              "174  3  13.27  4.28  2.26  20.0  120  1.59  0.69  0.43  1.35  10.20  0.59   \n",
              "175  3  13.17  2.59  2.37  20.0  120  1.65  0.68  0.53  1.46   9.30  0.60   \n",
              "176  3  14.13  4.10  2.74  24.5   96  2.05  0.76  0.56  1.35   9.20  0.61   \n",
              "\n",
              "     3.92  1065  \n",
              "0    3.40  1050  \n",
              "1    3.17  1185  \n",
              "2    3.45  1480  \n",
              "3    2.93   735  \n",
              "4    2.85  1450  \n",
              "..    ...   ...  \n",
              "172  1.74   740  \n",
              "173  1.56   750  \n",
              "174  1.56   835  \n",
              "175  1.62   840  \n",
              "176  1.60   560  \n",
              "\n",
              "[177 rows x 14 columns]"
            ],
            "text/html": [
              "\n",
              "\n",
              "  <div id=\"df-c0d1a613-1360-4db2-809f-1b2868061661\">\n",
              "    <div class=\"colab-df-container\">\n",
              "      <div>\n",
              "<style scoped>\n",
              "    .dataframe tbody tr th:only-of-type {\n",
              "        vertical-align: middle;\n",
              "    }\n",
              "\n",
              "    .dataframe tbody tr th {\n",
              "        vertical-align: top;\n",
              "    }\n",
              "\n",
              "    .dataframe thead th {\n",
              "        text-align: right;\n",
              "    }\n",
              "</style>\n",
              "<table border=\"1\" class=\"dataframe\">\n",
              "  <thead>\n",
              "    <tr style=\"text-align: right;\">\n",
              "      <th></th>\n",
              "      <th>1</th>\n",
              "      <th>14.23</th>\n",
              "      <th>1.71</th>\n",
              "      <th>2.43</th>\n",
              "      <th>15.6</th>\n",
              "      <th>127</th>\n",
              "      <th>2.8</th>\n",
              "      <th>3.06</th>\n",
              "      <th>0.28</th>\n",
              "      <th>2.29</th>\n",
              "      <th>5.64</th>\n",
              "      <th>1.04</th>\n",
              "      <th>3.92</th>\n",
              "      <th>1065</th>\n",
              "    </tr>\n",
              "  </thead>\n",
              "  <tbody>\n",
              "    <tr>\n",
              "      <th>0</th>\n",
              "      <td>1</td>\n",
              "      <td>13.20</td>\n",
              "      <td>1.78</td>\n",
              "      <td>2.14</td>\n",
              "      <td>11.2</td>\n",
              "      <td>100</td>\n",
              "      <td>2.65</td>\n",
              "      <td>2.76</td>\n",
              "      <td>0.26</td>\n",
              "      <td>1.28</td>\n",
              "      <td>4.38</td>\n",
              "      <td>1.05</td>\n",
              "      <td>3.40</td>\n",
              "      <td>1050</td>\n",
              "    </tr>\n",
              "    <tr>\n",
              "      <th>1</th>\n",
              "      <td>1</td>\n",
              "      <td>13.16</td>\n",
              "      <td>2.36</td>\n",
              "      <td>2.67</td>\n",
              "      <td>18.6</td>\n",
              "      <td>101</td>\n",
              "      <td>2.80</td>\n",
              "      <td>3.24</td>\n",
              "      <td>0.30</td>\n",
              "      <td>2.81</td>\n",
              "      <td>5.68</td>\n",
              "      <td>1.03</td>\n",
              "      <td>3.17</td>\n",
              "      <td>1185</td>\n",
              "    </tr>\n",
              "    <tr>\n",
              "      <th>2</th>\n",
              "      <td>1</td>\n",
              "      <td>14.37</td>\n",
              "      <td>1.95</td>\n",
              "      <td>2.50</td>\n",
              "      <td>16.8</td>\n",
              "      <td>113</td>\n",
              "      <td>3.85</td>\n",
              "      <td>3.49</td>\n",
              "      <td>0.24</td>\n",
              "      <td>2.18</td>\n",
              "      <td>7.80</td>\n",
              "      <td>0.86</td>\n",
              "      <td>3.45</td>\n",
              "      <td>1480</td>\n",
              "    </tr>\n",
              "    <tr>\n",
              "      <th>3</th>\n",
              "      <td>1</td>\n",
              "      <td>13.24</td>\n",
              "      <td>2.59</td>\n",
              "      <td>2.87</td>\n",
              "      <td>21.0</td>\n",
              "      <td>118</td>\n",
              "      <td>2.80</td>\n",
              "      <td>2.69</td>\n",
              "      <td>0.39</td>\n",
              "      <td>1.82</td>\n",
              "      <td>4.32</td>\n",
              "      <td>1.04</td>\n",
              "      <td>2.93</td>\n",
              "      <td>735</td>\n",
              "    </tr>\n",
              "    <tr>\n",
              "      <th>4</th>\n",
              "      <td>1</td>\n",
              "      <td>14.20</td>\n",
              "      <td>1.76</td>\n",
              "      <td>2.45</td>\n",
              "      <td>15.2</td>\n",
              "      <td>112</td>\n",
              "      <td>3.27</td>\n",
              "      <td>3.39</td>\n",
              "      <td>0.34</td>\n",
              "      <td>1.97</td>\n",
              "      <td>6.75</td>\n",
              "      <td>1.05</td>\n",
              "      <td>2.85</td>\n",
              "      <td>1450</td>\n",
              "    </tr>\n",
              "    <tr>\n",
              "      <th>...</th>\n",
              "      <td>...</td>\n",
              "      <td>...</td>\n",
              "      <td>...</td>\n",
              "      <td>...</td>\n",
              "      <td>...</td>\n",
              "      <td>...</td>\n",
              "      <td>...</td>\n",
              "      <td>...</td>\n",
              "      <td>...</td>\n",
              "      <td>...</td>\n",
              "      <td>...</td>\n",
              "      <td>...</td>\n",
              "      <td>...</td>\n",
              "      <td>...</td>\n",
              "    </tr>\n",
              "    <tr>\n",
              "      <th>172</th>\n",
              "      <td>3</td>\n",
              "      <td>13.71</td>\n",
              "      <td>5.65</td>\n",
              "      <td>2.45</td>\n",
              "      <td>20.5</td>\n",
              "      <td>95</td>\n",
              "      <td>1.68</td>\n",
              "      <td>0.61</td>\n",
              "      <td>0.52</td>\n",
              "      <td>1.06</td>\n",
              "      <td>7.70</td>\n",
              "      <td>0.64</td>\n",
              "      <td>1.74</td>\n",
              "      <td>740</td>\n",
              "    </tr>\n",
              "    <tr>\n",
              "      <th>173</th>\n",
              "      <td>3</td>\n",
              "      <td>13.40</td>\n",
              "      <td>3.91</td>\n",
              "      <td>2.48</td>\n",
              "      <td>23.0</td>\n",
              "      <td>102</td>\n",
              "      <td>1.80</td>\n",
              "      <td>0.75</td>\n",
              "      <td>0.43</td>\n",
              "      <td>1.41</td>\n",
              "      <td>7.30</td>\n",
              "      <td>0.70</td>\n",
              "      <td>1.56</td>\n",
              "      <td>750</td>\n",
              "    </tr>\n",
              "    <tr>\n",
              "      <th>174</th>\n",
              "      <td>3</td>\n",
              "      <td>13.27</td>\n",
              "      <td>4.28</td>\n",
              "      <td>2.26</td>\n",
              "      <td>20.0</td>\n",
              "      <td>120</td>\n",
              "      <td>1.59</td>\n",
              "      <td>0.69</td>\n",
              "      <td>0.43</td>\n",
              "      <td>1.35</td>\n",
              "      <td>10.20</td>\n",
              "      <td>0.59</td>\n",
              "      <td>1.56</td>\n",
              "      <td>835</td>\n",
              "    </tr>\n",
              "    <tr>\n",
              "      <th>175</th>\n",
              "      <td>3</td>\n",
              "      <td>13.17</td>\n",
              "      <td>2.59</td>\n",
              "      <td>2.37</td>\n",
              "      <td>20.0</td>\n",
              "      <td>120</td>\n",
              "      <td>1.65</td>\n",
              "      <td>0.68</td>\n",
              "      <td>0.53</td>\n",
              "      <td>1.46</td>\n",
              "      <td>9.30</td>\n",
              "      <td>0.60</td>\n",
              "      <td>1.62</td>\n",
              "      <td>840</td>\n",
              "    </tr>\n",
              "    <tr>\n",
              "      <th>176</th>\n",
              "      <td>3</td>\n",
              "      <td>14.13</td>\n",
              "      <td>4.10</td>\n",
              "      <td>2.74</td>\n",
              "      <td>24.5</td>\n",
              "      <td>96</td>\n",
              "      <td>2.05</td>\n",
              "      <td>0.76</td>\n",
              "      <td>0.56</td>\n",
              "      <td>1.35</td>\n",
              "      <td>9.20</td>\n",
              "      <td>0.61</td>\n",
              "      <td>1.60</td>\n",
              "      <td>560</td>\n",
              "    </tr>\n",
              "  </tbody>\n",
              "</table>\n",
              "<p>177 rows × 14 columns</p>\n",
              "</div>\n",
              "      <button class=\"colab-df-convert\" onclick=\"convertToInteractive('df-c0d1a613-1360-4db2-809f-1b2868061661')\"\n",
              "              title=\"Convert this dataframe to an interactive table.\"\n",
              "              style=\"display:none;\">\n",
              "\n",
              "  <svg xmlns=\"http://www.w3.org/2000/svg\" height=\"24px\"viewBox=\"0 0 24 24\"\n",
              "       width=\"24px\">\n",
              "    <path d=\"M0 0h24v24H0V0z\" fill=\"none\"/>\n",
              "    <path d=\"M18.56 5.44l.94 2.06.94-2.06 2.06-.94-2.06-.94-.94-2.06-.94 2.06-2.06.94zm-11 1L8.5 8.5l.94-2.06 2.06-.94-2.06-.94L8.5 2.5l-.94 2.06-2.06.94zm10 10l.94 2.06.94-2.06 2.06-.94-2.06-.94-.94-2.06-.94 2.06-2.06.94z\"/><path d=\"M17.41 7.96l-1.37-1.37c-.4-.4-.92-.59-1.43-.59-.52 0-1.04.2-1.43.59L10.3 9.45l-7.72 7.72c-.78.78-.78 2.05 0 2.83L4 21.41c.39.39.9.59 1.41.59.51 0 1.02-.2 1.41-.59l7.78-7.78 2.81-2.81c.8-.78.8-2.07 0-2.86zM5.41 20L4 18.59l7.72-7.72 1.47 1.35L5.41 20z\"/>\n",
              "  </svg>\n",
              "      </button>\n",
              "\n",
              "\n",
              "\n",
              "    <div id=\"df-eb6ffa4a-b9e2-4baf-a815-cb2467776f0a\">\n",
              "      <button class=\"colab-df-quickchart\" onclick=\"quickchart('df-eb6ffa4a-b9e2-4baf-a815-cb2467776f0a')\"\n",
              "              title=\"Suggest charts.\"\n",
              "              style=\"display:none;\">\n",
              "\n",
              "<svg xmlns=\"http://www.w3.org/2000/svg\" height=\"24px\"viewBox=\"0 0 24 24\"\n",
              "     width=\"24px\">\n",
              "    <g>\n",
              "        <path d=\"M19 3H5c-1.1 0-2 .9-2 2v14c0 1.1.9 2 2 2h14c1.1 0 2-.9 2-2V5c0-1.1-.9-2-2-2zM9 17H7v-7h2v7zm4 0h-2V7h2v10zm4 0h-2v-4h2v4z\"/>\n",
              "    </g>\n",
              "</svg>\n",
              "      </button>\n",
              "    </div>\n",
              "\n",
              "<style>\n",
              "  .colab-df-quickchart {\n",
              "    background-color: #E8F0FE;\n",
              "    border: none;\n",
              "    border-radius: 50%;\n",
              "    cursor: pointer;\n",
              "    display: none;\n",
              "    fill: #1967D2;\n",
              "    height: 32px;\n",
              "    padding: 0 0 0 0;\n",
              "    width: 32px;\n",
              "  }\n",
              "\n",
              "  .colab-df-quickchart:hover {\n",
              "    background-color: #E2EBFA;\n",
              "    box-shadow: 0px 1px 2px rgba(60, 64, 67, 0.3), 0px 1px 3px 1px rgba(60, 64, 67, 0.15);\n",
              "    fill: #174EA6;\n",
              "  }\n",
              "\n",
              "  [theme=dark] .colab-df-quickchart {\n",
              "    background-color: #3B4455;\n",
              "    fill: #D2E3FC;\n",
              "  }\n",
              "\n",
              "  [theme=dark] .colab-df-quickchart:hover {\n",
              "    background-color: #434B5C;\n",
              "    box-shadow: 0px 1px 3px 1px rgba(0, 0, 0, 0.15);\n",
              "    filter: drop-shadow(0px 1px 2px rgba(0, 0, 0, 0.3));\n",
              "    fill: #FFFFFF;\n",
              "  }\n",
              "</style>\n",
              "\n",
              "    <script>\n",
              "      async function quickchart(key) {\n",
              "        const containerElement = document.querySelector('#' + key);\n",
              "        const charts = await google.colab.kernel.invokeFunction(\n",
              "            'suggestCharts', [key], {});\n",
              "      }\n",
              "    </script>\n",
              "\n",
              "      <script>\n",
              "\n",
              "function displayQuickchartButton(domScope) {\n",
              "  let quickchartButtonEl =\n",
              "    domScope.querySelector('#df-eb6ffa4a-b9e2-4baf-a815-cb2467776f0a button.colab-df-quickchart');\n",
              "  quickchartButtonEl.style.display =\n",
              "    google.colab.kernel.accessAllowed ? 'block' : 'none';\n",
              "}\n",
              "\n",
              "        displayQuickchartButton(document);\n",
              "      </script>\n",
              "      <style>\n",
              "    .colab-df-container {\n",
              "      display:flex;\n",
              "      flex-wrap:wrap;\n",
              "      gap: 12px;\n",
              "    }\n",
              "\n",
              "    .colab-df-convert {\n",
              "      background-color: #E8F0FE;\n",
              "      border: none;\n",
              "      border-radius: 50%;\n",
              "      cursor: pointer;\n",
              "      display: none;\n",
              "      fill: #1967D2;\n",
              "      height: 32px;\n",
              "      padding: 0 0 0 0;\n",
              "      width: 32px;\n",
              "    }\n",
              "\n",
              "    .colab-df-convert:hover {\n",
              "      background-color: #E2EBFA;\n",
              "      box-shadow: 0px 1px 2px rgba(60, 64, 67, 0.3), 0px 1px 3px 1px rgba(60, 64, 67, 0.15);\n",
              "      fill: #174EA6;\n",
              "    }\n",
              "\n",
              "    [theme=dark] .colab-df-convert {\n",
              "      background-color: #3B4455;\n",
              "      fill: #D2E3FC;\n",
              "    }\n",
              "\n",
              "    [theme=dark] .colab-df-convert:hover {\n",
              "      background-color: #434B5C;\n",
              "      box-shadow: 0px 1px 3px 1px rgba(0, 0, 0, 0.15);\n",
              "      filter: drop-shadow(0px 1px 2px rgba(0, 0, 0, 0.3));\n",
              "      fill: #FFFFFF;\n",
              "    }\n",
              "  </style>\n",
              "\n",
              "      <script>\n",
              "        const buttonEl =\n",
              "          document.querySelector('#df-c0d1a613-1360-4db2-809f-1b2868061661 button.colab-df-convert');\n",
              "        buttonEl.style.display =\n",
              "          google.colab.kernel.accessAllowed ? 'block' : 'none';\n",
              "\n",
              "        async function convertToInteractive(key) {\n",
              "          const element = document.querySelector('#df-c0d1a613-1360-4db2-809f-1b2868061661');\n",
              "          const dataTable =\n",
              "            await google.colab.kernel.invokeFunction('convertToInteractive',\n",
              "                                                     [key], {});\n",
              "          if (!dataTable) return;\n",
              "\n",
              "          const docLinkHtml = 'Like what you see? Visit the ' +\n",
              "            '<a target=\"_blank\" href=https://colab.research.google.com/notebooks/data_table.ipynb>data table notebook</a>'\n",
              "            + ' to learn more about interactive tables.';\n",
              "          element.innerHTML = '';\n",
              "          dataTable['output_type'] = 'display_data';\n",
              "          await google.colab.output.renderOutput(dataTable, element);\n",
              "          const docLink = document.createElement('div');\n",
              "          docLink.innerHTML = docLinkHtml;\n",
              "          element.appendChild(docLink);\n",
              "        }\n",
              "      </script>\n",
              "    </div>\n",
              "  </div>\n"
            ]
          },
          "metadata": {},
          "execution_count": 15
        }
      ]
    },
    {
      "cell_type": "markdown",
      "metadata": {
        "id": "nHwBjTgfUmGN"
      },
      "source": [
        "# **numpy**\n",
        "numpy เป็น library ที่ช่วยให้เราจัดการกับอาเรย์หลายมิติได้โดยง่ายขึ้น\n",
        "\n",
        "ภาษา Python ไม่มีข้อมูลชนิด array แต่สามารถใช้ list แทนได้ แต่หากใช้ numpy ก็จะทำให้ใช้ข้อมูลชนิด array ได้ และทำงานกับข้อมูลอาเรย์หลายมิติก็ได้โดยง่ายไปอีก\n",
        "\n",
        "ข้อแตกต่างระหว่าง array กับ list คือ array จะต้องประกอบด้วยข้อมูลเพียงชนิดเดียวเท่านั้น เรามักเห็นเป็นตัวเลขหมด เพราะมักใช้ในการคำนวณใน Machine Learning\n",
        "\n",
        "numpy จะสร้าง array สำหรับเก็บข้อมูล โดยใช้ pointer ตัวเดียวชี้ไปที่ array นั้น ซึ่งทำให้ numpy มีประสิทธิภาพสูงสำหรับการทำการจัดการข้อมูลลักษณะนี้\n",
        "\n",
        "numpy ถูกติดตั้งมาพร้อมกับการติดตั้ง Pyhton แล้ว เราจึงเรียกใช้งานได้เลย\n",
        "\n",
        "ถ้ายังไม่มีการติดตั้งมา ให้ติดตั้งโดยใช้คำสั่ง เช่น\n",
        "```\n",
        "pip install numpy\n",
        "```"
      ]
    },
    {
      "cell_type": "markdown",
      "metadata": {
        "id": "Nvi6my4gWs3b"
      },
      "source": [
        "การเรียใช้ numpy เข้ามาที่โปรแกรมหลักของเรา ทำได้โดย"
      ]
    },
    {
      "cell_type": "code",
      "metadata": {
        "id": "HDnvNVDgWu9N"
      },
      "source": [
        "import numpy as np"
      ],
      "execution_count": null,
      "outputs": []
    },
    {
      "cell_type": "markdown",
      "metadata": {
        "id": "o6onSnZ6D_yU"
      },
      "source": [
        "ต่อไปนี้ เราจะสามารถใช้ np แทน numpy ได้ตลอดทั้งโปรแกรม"
      ]
    },
    {
      "cell_type": "markdown",
      "metadata": {
        "id": "wYT0RH6XZFoN"
      },
      "source": [
        "### Creating an array"
      ]
    },
    {
      "cell_type": "markdown",
      "metadata": {
        "id": "u7YdGl2pYH2R"
      },
      "source": [
        "**Creating a single-dimensional array**"
      ]
    },
    {
      "cell_type": "code",
      "metadata": {
        "id": "WZbrOnUBYWZV",
        "colab": {
          "base_uri": "https://localhost:8080/"
        },
        "outputId": "ec61f5d0-2f03-4570-93c6-407f224a9742"
      },
      "source": [
        "a = np.array([1,2,3]) # Calling the array function\n",
        "print(a)"
      ],
      "execution_count": null,
      "outputs": [
        {
          "output_type": "stream",
          "name": "stdout",
          "text": [
            "[1 2 3]\n"
          ]
        }
      ]
    },
    {
      "cell_type": "markdown",
      "metadata": {
        "id": "T1bxEsHgYg9k"
      },
      "source": [
        "**Creating a multi-dimensional array**\n",
        "\n",
        "Each set of elements within a square bracket indicates a row\n",
        "\n",
        "Array of two rows and two columns"
      ]
    },
    {
      "cell_type": "code",
      "metadata": {
        "id": "_iWO503jYdUe",
        "colab": {
          "base_uri": "https://localhost:8080/"
        },
        "outputId": "d068ae7c-a532-47df-d6f5-a06feee143b0"
      },
      "source": [
        "b = np.array([[1,2], [3,4]])\n",
        "print(b)"
      ],
      "execution_count": null,
      "outputs": [
        {
          "output_type": "stream",
          "name": "stdout",
          "text": [
            "[[1 2]\n",
            " [3 4]]\n"
          ]
        }
      ]
    },
    {
      "cell_type": "markdown",
      "metadata": {
        "id": "V5NBrUCRZWj7"
      },
      "source": [
        "**Creating an ndarray by wrapping a list**"
      ]
    },
    {
      "cell_type": "code",
      "metadata": {
        "id": "Aa5Ic9uuZYpe",
        "colab": {
          "base_uri": "https://localhost:8080/"
        },
        "outputId": "7a858faa-ca49-4d43-d2b2-c33c133eab5b"
      },
      "source": [
        "list1 = [1,2,3,4,5] # Creating a list\n",
        "myarray = np.array(list1) # Wrapping the list\n",
        "print(list1)\n",
        "print(myarray)"
      ],
      "execution_count": null,
      "outputs": [
        {
          "output_type": "stream",
          "name": "stdout",
          "text": [
            "[1, 2, 3, 4, 5]\n",
            "[1 2 3 4 5]\n"
          ]
        }
      ]
    },
    {
      "cell_type": "markdown",
      "metadata": {
        "id": "eWL6Y0VYZqAn"
      },
      "source": [
        "**Creating an array of numbers of a specified range**"
      ]
    },
    {
      "cell_type": "code",
      "metadata": {
        "id": "Hc0dEwo5Zttm",
        "colab": {
          "base_uri": "https://localhost:8080/"
        },
        "outputId": "7dd94191-355a-4da8-cdda-78b9ecc3d051"
      },
      "source": [
        "myarray1 = np.arange(10, 100) # Array of numbers from 10 up to and excluding 100\n",
        "print(myarray1)"
      ],
      "execution_count": null,
      "outputs": [
        {
          "output_type": "stream",
          "name": "stdout",
          "text": [
            "[10 11 12 13 14 15 16 17 18 19 20 21 22 23 24 25 26 27 28 29 30 31 32 33\n",
            " 34 35 36 37 38 39 40 41 42 43 44 45 46 47 48 49 50 51 52 53 54 55 56 57\n",
            " 58 59 60 61 62 63 64 65 66 67 68 69 70 71 72 73 74 75 76 77 78 79 80 81\n",
            " 82 83 84 85 86 87 88 89 90 91 92 93 94 95 96 97 98 99]\n"
          ]
        }
      ]
    },
    {
      "cell_type": "markdown",
      "metadata": {
        "id": "Kx7zRw53Z2dR"
      },
      "source": [
        "**Creating a 5x5 array of zeroes**"
      ]
    },
    {
      "cell_type": "code",
      "metadata": {
        "id": "jp9ICm98Z4Wg",
        "colab": {
          "base_uri": "https://localhost:8080/"
        },
        "outputId": "15706925-8673-47ae-f495-f4adaa7b2c5e"
      },
      "source": [
        "arr2 = np.zeros((5,5))\n",
        "print(arr2)"
      ],
      "execution_count": null,
      "outputs": [
        {
          "output_type": "stream",
          "name": "stdout",
          "text": [
            "[[0. 0. 0. 0. 0.]\n",
            " [0. 0. 0. 0. 0.]\n",
            " [0. 0. 0. 0. 0.]\n",
            " [0. 0. 0. 0. 0.]\n",
            " [0. 0. 0. 0. 0.]]\n"
          ]
        }
      ]
    },
    {
      "cell_type": "markdown",
      "metadata": {
        "id": "uQTvG-UOaC3l"
      },
      "source": [
        "**Creating a linearly spaced vector, with spacing**"
      ]
    },
    {
      "cell_type": "code",
      "metadata": {
        "id": "zmG7uDDEaJUk",
        "colab": {
          "base_uri": "https://localhost:8080/"
        },
        "outputId": "73dd737a-75aa-4c98-84a3-ad5c17139df0"
      },
      "source": [
        "vector = np.linspace(0, 20, 5) # Start, stop, step\n",
        "print(vector)"
      ],
      "execution_count": null,
      "outputs": [
        {
          "output_type": "stream",
          "name": "stdout",
          "text": [
            "[ 0.  5. 10. 15. 20.]\n"
          ]
        }
      ]
    },
    {
      "cell_type": "markdown",
      "metadata": {
        "id": "2q64WXBBabJ_"
      },
      "source": [
        "**Creating Arrays from Existing Data**"
      ]
    },
    {
      "cell_type": "code",
      "metadata": {
        "id": "vUF9E3iCadI4",
        "colab": {
          "base_uri": "https://localhost:8080/"
        },
        "outputId": "42270bdd-501f-4cbc-eeb0-9c92e0c90370"
      },
      "source": [
        "x = [1,2,3]\n",
        "# Used for converting Python sequences into ndarrays\n",
        "c = np.asarray(x) #np.asarray(a, dtype = None, order = None)\n",
        "print(c)"
      ],
      "execution_count": null,
      "outputs": [
        {
          "output_type": "stream",
          "name": "stdout",
          "text": [
            "[1 2 3]\n"
          ]
        }
      ]
    },
    {
      "cell_type": "markdown",
      "metadata": {
        "id": "--tvokWfal9K"
      },
      "source": [
        "**Converting a linear array of 8 elements into a 2x2x2 3D array**"
      ]
    },
    {
      "cell_type": "code",
      "metadata": {
        "id": "_b40hiFOanP8",
        "colab": {
          "base_uri": "https://localhost:8080/"
        },
        "outputId": "f105e141-97f9-4d71-c1e9-6d93ec8ec7c1"
      },
      "source": [
        "myarray1 = np.zeros(8) # Flat array of eight zeroes\n",
        "myarray2 = myarray1.reshape((2,2,2)) # Restructured array\n",
        "print(myarray1)\n",
        "print(myarray2)"
      ],
      "execution_count": null,
      "outputs": [
        {
          "output_type": "stream",
          "name": "stdout",
          "text": [
            "[0. 0. 0. 0. 0. 0. 0. 0.]\n",
            "[[[0. 0.]\n",
            "  [0. 0.]]\n",
            "\n",
            " [[0. 0.]\n",
            "  [0. 0.]]]\n"
          ]
        }
      ]
    },
    {
      "cell_type": "markdown",
      "metadata": {
        "id": "IyS8jiBoav3V"
      },
      "source": [
        " **Flatten rgw 3d array to get back the linear array**"
      ]
    },
    {
      "cell_type": "code",
      "metadata": {
        "id": "if2Oo1cYax6l",
        "colab": {
          "base_uri": "https://localhost:8080/"
        },
        "outputId": "d897819d-d40f-4f8a-cfcc-0fee0ce364a5"
      },
      "source": [
        "myarray3 = myarray2.ravel()\n",
        "print(myarray3)"
      ],
      "execution_count": null,
      "outputs": [
        {
          "output_type": "stream",
          "name": "stdout",
          "text": [
            "[0. 0. 0. 0. 0. 0. 0. 0.]\n"
          ]
        }
      ]
    },
    {
      "cell_type": "markdown",
      "metadata": {
        "id": "-vOvzpRRa3TB"
      },
      "source": [
        "###**Indexing of numpy arrays**\n",
        "\n",
        "NumPy array indexing is identical to Python's indexing scheme"
      ]
    },
    {
      "cell_type": "code",
      "metadata": {
        "id": "YzRgyIQ9a63y",
        "colab": {
          "base_uri": "https://localhost:8080/"
        },
        "outputId": "fe7c3ada-b655-4ca6-fae5-d84764dd2035"
      },
      "source": [
        "myarray = np.arange(2, 20)\n",
        "print(myarray)\n",
        "element = myarray[6]\n",
        "print(element)"
      ],
      "execution_count": null,
      "outputs": [
        {
          "output_type": "stream",
          "name": "stdout",
          "text": [
            "[ 2  3  4  5  6  7  8  9 10 11 12 13 14 15 16 17 18 19]\n",
            "8\n"
          ]
        }
      ]
    },
    {
      "cell_type": "markdown",
      "metadata": {
        "id": "4z_kXO-abLY-"
      },
      "source": [
        "Python's concept of lists slicing is extended to NumPy.The slice object is constructed by providing start, stop, and step parameters to slice()"
      ]
    },
    {
      "cell_type": "code",
      "metadata": {
        "id": "JQ6_WSYCbOsS",
        "colab": {
          "base_uri": "https://localhost:8080/"
        },
        "outputId": "1393120b-631a-498a-99a1-695aea6a6330"
      },
      "source": [
        "myarray = np.arange(20)\n",
        "myarray_slice = slice(1, 10, 2) # Start, stop & step สไลส์ไปทีละ 2 ตัว เริ่มจาก 1 ถึง 10\n",
        "myelement = myarray[6]\n",
        "print(myarray)\n",
        "print(myarray[myarray_slice])\n",
        "print(myelement)"
      ],
      "execution_count": null,
      "outputs": [
        {
          "output_type": "stream",
          "name": "stdout",
          "text": [
            "[ 0  1  2  3  4  5  6  7  8  9 10 11 12 13 14 15 16 17 18 19]\n",
            "[1 3 5 7 9]\n",
            "6\n"
          ]
        }
      ]
    },
    {
      "cell_type": "markdown",
      "metadata": {
        "id": "27d80XLybVsT"
      },
      "source": [
        "Slicing items beginning with a specified index"
      ]
    },
    {
      "cell_type": "code",
      "metadata": {
        "id": "rP6sUl60bWoY",
        "colab": {
          "base_uri": "https://localhost:8080/"
        },
        "outputId": "f683bbbd-980d-4a99-9099-c4eaa3495ab8"
      },
      "source": [
        "print(myarray[2:])"
      ],
      "execution_count": null,
      "outputs": [
        {
          "output_type": "stream",
          "name": "stdout",
          "text": [
            "[ 2  3  4  5  6  7  8  9 10 11 12 13 14 15 16 17 18 19]\n"
          ]
        }
      ]
    },
    {
      "cell_type": "markdown",
      "metadata": {
        "id": "iu9-9exgba4h"
      },
      "source": [
        "Slicing items until a specified index"
      ]
    },
    {
      "cell_type": "code",
      "metadata": {
        "id": "jng4k79qbbWp",
        "colab": {
          "base_uri": "https://localhost:8080/"
        },
        "outputId": "52d4b584-14f0-4f87-84bd-a9f65664c5e5"
      },
      "source": [
        "print(myarray[:15])"
      ],
      "execution_count": null,
      "outputs": [
        {
          "output_type": "stream",
          "name": "stdout",
          "text": [
            "[ 0  1  2  3  4  5  6  7  8  9 10 11 12 13 14]\n"
          ]
        }
      ]
    },
    {
      "cell_type": "markdown",
      "metadata": {
        "id": "BZ_bbfh4bgpP"
      },
      "source": [
        "Extracting specific rows and columns using Slicing"
      ]
    },
    {
      "cell_type": "code",
      "metadata": {
        "id": "TOqESEh8bhhE",
        "colab": {
          "base_uri": "https://localhost:8080/"
        },
        "outputId": "a6bf32f5-735e-4900-e3e8-c700646212f7"
      },
      "source": [
        "d = np.array([[1,2,3], [4,5,6], [7,8,9]])\n",
        "print(d)\n",
        "print(d[0:2, 0:2 ]) # Slice the first two rows and the first two columns\n"
      ],
      "execution_count": null,
      "outputs": [
        {
          "output_type": "stream",
          "name": "stdout",
          "text": [
            "[[1 2 3]\n",
            " [4 5 6]\n",
            " [7 8 9]]\n",
            "[[1 2]\n",
            " [4 5]]\n"
          ]
        }
      ]
    },
    {
      "cell_type": "code",
      "source": [
        "print(d[0:3, 0 ])\n"
      ],
      "metadata": {
        "colab": {
          "base_uri": "https://localhost:8080/"
        },
        "id": "ZcY0cw1FdqSf",
        "outputId": "fa2fc9f4-b3ba-4f26-9534-f02e95e369f1"
      },
      "execution_count": null,
      "outputs": [
        {
          "output_type": "stream",
          "name": "stdout",
          "text": [
            "[1 4 7]\n"
          ]
        }
      ]
    },
    {
      "cell_type": "code",
      "source": [
        "print(d[0:2, 1:3 ])"
      ],
      "metadata": {
        "colab": {
          "base_uri": "https://localhost:8080/"
        },
        "id": "fF80sIxpdsWL",
        "outputId": "ca79c389-84d6-4593-9d9d-f5ff63f8aef8"
      },
      "execution_count": null,
      "outputs": [
        {
          "output_type": "stream",
          "name": "stdout",
          "text": [
            "[[2 3]\n",
            " [5 6]]\n"
          ]
        }
      ]
    },
    {
      "cell_type": "code",
      "source": [
        "print(d[0:2, 0:3 ])"
      ],
      "metadata": {
        "colab": {
          "base_uri": "https://localhost:8080/"
        },
        "id": "x_RDB8iFdvUO",
        "outputId": "71cd3654-5957-4ef8-f849-6634436b5193"
      },
      "execution_count": null,
      "outputs": [
        {
          "output_type": "stream",
          "name": "stdout",
          "text": [
            "[[1 2 3]\n",
            " [4 5 6]]\n"
          ]
        }
      ]
    },
    {
      "cell_type": "code",
      "source": [
        "print(d[1:2, 2:3 ])"
      ],
      "metadata": {
        "colab": {
          "base_uri": "https://localhost:8080/"
        },
        "id": "84Wk4E0yewhP",
        "outputId": "3e44d1fc-48fe-4297-c793-b98647bfc86d"
      },
      "execution_count": null,
      "outputs": [
        {
          "output_type": "stream",
          "name": "stdout",
          "text": [
            "[[6]]\n"
          ]
        }
      ]
    },
    {
      "cell_type": "code",
      "source": [
        "print(d[1:3, 1:3])"
      ],
      "metadata": {
        "colab": {
          "base_uri": "https://localhost:8080/"
        },
        "id": "Wj-zMlgQ9JqE",
        "outputId": "4058c6cf-a576-4aad-84d3-3e1f4c3eb78a"
      },
      "execution_count": null,
      "outputs": [
        {
          "output_type": "stream",
          "name": "stdout",
          "text": [
            "[[5 6]\n",
            " [8 9]]\n"
          ]
        }
      ]
    },
    {
      "cell_type": "code",
      "source": [
        "print(d[1:3, 0:2])"
      ],
      "metadata": {
        "colab": {
          "base_uri": "https://localhost:8080/"
        },
        "id": "1ZBvcWFS_kXO",
        "outputId": "f99cdc9b-64ed-41a0-984b-e3357a0e465a"
      },
      "execution_count": null,
      "outputs": [
        {
          "output_type": "stream",
          "name": "stdout",
          "text": [
            "[[4 5]\n",
            " [7 8]]\n"
          ]
        }
      ]
    },
    {
      "cell_type": "markdown",
      "metadata": {
        "id": "MEm5BjCzblyT"
      },
      "source": [
        "###**numpy array attributes**"
      ]
    },
    {
      "cell_type": "code",
      "metadata": {
        "id": "O3pgKB-Kbo07",
        "colab": {
          "base_uri": "https://localhost:8080/"
        },
        "outputId": "37ef8f10-dce7-427e-958c-eb42c420778c"
      },
      "source": [
        "print(d.shape) # Returns a tuple consisting of array dimensions\n",
        "print(d.ndim) # Attribute returns the number of array dimensions\n",
        "print(d.itemsize) # Returns the length of each element of array in bytes"
      ],
      "execution_count": null,
      "outputs": [
        {
          "output_type": "stream",
          "name": "stdout",
          "text": [
            "(3, 3)\n",
            "2\n",
            "8\n"
          ]
        }
      ]
    },
    {
      "cell_type": "markdown",
      "metadata": {
        "id": "uFq6Z5x3bx6N"
      },
      "source": [
        "Creates an uninitialized array of specified shape and dtype\n",
        "numpy.empty ไม่ต้องเริ่มต้นรายการ Numpy ที่ว่างเปล่าซึ่งแตกต่างจากวิธี zeros() ซึ่งตั้งค่าอาร์เรย์เป็นศูนย์"
      ]
    },
    {
      "cell_type": "code",
      "metadata": {
        "id": "w5PFS47lbvZm",
        "colab": {
          "base_uri": "https://localhost:8080/"
        },
        "outputId": "53feb606-d753-4f95-dd36-9d0ce839332c"
      },
      "source": [
        "y = np.empty([3,2], dtype = int) #dtypedata-type, optional Desired output data-type for the array, e.g, numpy.int8. Default is numpy.float64.\n",
        "print(y)"
      ],
      "execution_count": null,
      "outputs": [
        {
          "output_type": "stream",
          "name": "stdout",
          "text": [
            "[[51476960        0]\n",
            " [       0        0]\n",
            " [       0        0]]\n"
          ]
        }
      ]
    },
    {
      "cell_type": "markdown",
      "metadata": {
        "id": "RxF49676cDKX"
      },
      "source": [
        "Returns a new array of specified size, filled with zeros"
      ]
    },
    {
      "cell_type": "code",
      "metadata": {
        "id": "WuU14qRYcDwW",
        "colab": {
          "base_uri": "https://localhost:8080/"
        },
        "outputId": "792948fd-2820-49e4-f9ca-52356494c808"
      },
      "source": [
        "z = np.zeros(5) # np.zeros(shape, dtype = float)\n",
        "print(z)"
      ],
      "execution_count": null,
      "outputs": [
        {
          "output_type": "stream",
          "name": "stdout",
          "text": [
            "[0. 0. 0. 0. 0.]\n"
          ]
        }
      ]
    },
    {
      "cell_type": "markdown",
      "metadata": {
        "id": "Crhc5tHHUjLf"
      },
      "source": [
        "## Basic Statistics\n",
        "ในหัวข้อ numpy นี้ ต้องการให้นักศึกษาทำความคุ้นเคยกับ numpy\n",
        "\n",
        "เพื่อประโยชน์ในการทำมาวิเคราะห์ข้อมูล\n",
        "\n",
        "numpy มีคำสั่งทางด้านสถิติหลายคำสั่ง ให้คำนวณได้อย่างง่าย เช่น\n",
        "\n",
        "np.mean() ได้ค่าเฉลี่ยเลขคณิต\n",
        "\n",
        "np.median() ได้ค่ามัธยฐาน\n",
        "\n",
        "np.corrcoef() ใช้เมื่อต้องการดูว่ามีความสัมพันธ์ระหว่างสองตัวแปรในชุดข้อมูลของเราหรือกับคำอื่น ๆ ระหว่างสองอาร์เรย์ที่มีความยาวเท่ากัน\n",
        "\n",
        "np.std() ได้ค่าเบี่ยงเบนมาตรฐาน\n",
        "\n",
        "ตัวอย่าง"
      ]
    },
    {
      "cell_type": "code",
      "metadata": {
        "id": "KSLJsOsfV4FP",
        "colab": {
          "base_uri": "https://localhost:8080/"
        },
        "outputId": "055682f4-d5ca-490a-b3e6-1c3921ec0691"
      },
      "source": [
        "learning_hours = [1, 2, 6, 4, 10]\n",
        "grades = [3, 4, 6, 5, 6]\n",
        "\n",
        "a = np.mean(learning_hours)   # 4.6\n",
        "b = np.median(learning_hours) # 4.0\n",
        "c = np.std(learning_hours)    # 3.2\n",
        "d = np.corrcoef(learning_hours, grades)\n",
        "\n",
        "print(a)\n",
        "print(b)\n",
        "print(c)\n",
        "print(d)"
      ],
      "execution_count": null,
      "outputs": [
        {
          "output_type": "stream",
          "name": "stdout",
          "text": [
            "4.6\n",
            "4.0\n",
            "3.2\n",
            "[[1.         0.88964891]\n",
            " [0.88964891 1.        ]]\n"
          ]
        }
      ]
    },
    {
      "cell_type": "markdown",
      "metadata": {
        "id": "qjuJpDj_Uj23"
      },
      "source": [
        "# **pandas**\n",
        "\n",
        "ย่อมาจากคำว่า “panel data”\n",
        "\n",
        "https://pypi.org/project/pandas/\n",
        "\n",
        "ความสามารถของตัว pandas จัดการข้อมูลที่อยู่รูปแบบ tabular หรือในรูปแบบตาราง\n",
        "\n",
        "pandas เป็น library ที่เสริมความสามารถของ numpy ให้มากขึ้น\n",
        "\n",
        "เราได้เข้าใจพื้นฐานของ array มาจาก numpy มาแล้ว\n",
        "\n",
        "pandas อาจจะยังไม่ถูกติดตั้งมาพร้อม Python ดังนั้นจำเป็นจะต้องติดตั้งลงเครื่องก่อน เช่น\n",
        "```\n",
        "pip install pandas\n",
        "```"
      ]
    },
    {
      "cell_type": "markdown",
      "metadata": {
        "id": "DBQYMhU8Z8aO"
      },
      "source": [
        "import numpy as np\n",
        "\n",
        "import pandas as pd"
      ]
    },
    {
      "cell_type": "code",
      "metadata": {
        "id": "-B94966WcwUP"
      },
      "source": [
        "import pandas as pd"
      ],
      "execution_count": null,
      "outputs": []
    },
    {
      "cell_type": "markdown",
      "metadata": {
        "id": "cJ1WHxYdbG4M"
      },
      "source": [
        "##Series และ DataFrame\n",
        "\n",
        "Series (1D) - labeled, homogenous array of immutable size\n",
        "\n",
        "DataFrames (2D) - labeled, heterogeneously typed, size-mutable tabular data structures\n",
        "\n",
        "Series และ DataFrame เป็นเหมือนที่บรรจุข้อมูลเพื่อนำมาวิเคราะห์ในงาน data science\n",
        "\n",
        "Series หรือ อนุกรม คือชุดข้อมูลที่เรียงต่อกัน และเราจะอาศัยพื้นฐานความสามารถของ numpy\n",
        "\n",
        "DataFrame คือตารางของข้อมูล ซึ่งประกอบขึ้นจากหลาย ๆ Series\n",
        "\n",
        "ต่อไปเราจะใช้ประโยชน์จาก DataFrame"
      ]
    },
    {
      "cell_type": "markdown",
      "metadata": {
        "id": "pVteuE-MdHLe"
      },
      "source": [
        "###Creating a Series"
      ]
    },
    {
      "cell_type": "markdown",
      "metadata": {
        "id": "a2EQkAtEdfGR"
      },
      "source": [
        "**Creating an empty Series**"
      ]
    },
    {
      "cell_type": "code",
      "metadata": {
        "id": "Yll16kYRdLgD",
        "colab": {
          "base_uri": "https://localhost:8080/"
        },
        "outputId": "faff1d01-6649-47bc-fcb8-e560a37ccfe4"
      },
      "source": [
        "myseries = pd.Series() # The Series() function creates a new Series\n",
        "print(myseries)\n",
        "type(myseries)"
      ],
      "execution_count": null,
      "outputs": [
        {
          "output_type": "stream",
          "name": "stdout",
          "text": [
            "Series([], dtype: float64)\n"
          ]
        },
        {
          "output_type": "stream",
          "name": "stderr",
          "text": [
            "<ipython-input-35-a01f69a44a97>:1: FutureWarning: The default dtype for empty Series will be 'object' instead of 'float64' in a future version. Specify a dtype explicitly to silence this warning.\n",
            "  myseries = pd.Series() # The Series() function creates a new Series\n"
          ]
        },
        {
          "output_type": "execute_result",
          "data": {
            "text/plain": [
              "pandas.core.series.Series"
            ]
          },
          "metadata": {},
          "execution_count": 35
        }
      ]
    },
    {
      "cell_type": "code",
      "metadata": {
        "id": "IkiVuxPMe01P",
        "colab": {
          "base_uri": "https://localhost:8080/"
        },
        "outputId": "034c80d1-5f79-4624-c692-a564b823c08f"
      },
      "source": [
        "myseries1 = pd.Series(['สุดา','กันยา','สมพร','Ann','Pimpa'])\n",
        "print(myseries1)\n",
        "print(pd.Series([1,2,9,3])) #print ซีรีส์ออกมาจะอยู่ในรูปที่ดูเป็นระเบียบดูง่าย"
      ],
      "execution_count": null,
      "outputs": [
        {
          "output_type": "stream",
          "name": "stdout",
          "text": [
            "0     สุดา\n",
            "1    กันยา\n",
            "2     สมพร\n",
            "3      Ann\n",
            "4    Pimpa\n",
            "dtype: object\n",
            "0    1\n",
            "1    2\n",
            "2    9\n",
            "3    3\n",
            "dtype: int64\n"
          ]
        }
      ]
    },
    {
      "cell_type": "markdown",
      "metadata": {
        "id": "EA8MTrBdfUtp"
      },
      "source": [
        "dtype คือชนิดของข้อมูล เช่นเดียวกับในอาเรย์ของ numpy\n",
        "\n",
        "ชนิดข้อมูลสามารถระบุได้ตอนสร้างโดยเพิ่มคีย์เวิร์ด dtype"
      ]
    },
    {
      "cell_type": "code",
      "metadata": {
        "id": "V1ZJsfxzfnGa",
        "colab": {
          "base_uri": "https://localhost:8080/"
        },
        "outputId": "c474cc1e-723e-41ff-8344-98f10f195c15"
      },
      "source": [
        "print(pd.Series([1,2,'9',3.1],dtype='int64')) # หรือ dtype=int"
      ],
      "execution_count": null,
      "outputs": [
        {
          "output_type": "stream",
          "name": "stdout",
          "text": [
            "0    1\n",
            "1    2\n",
            "2    9\n",
            "3    3\n",
            "dtype: int64\n"
          ]
        },
        {
          "output_type": "stream",
          "name": "stderr",
          "text": [
            "/usr/local/lib/python3.10/dist-packages/numpy/core/numeric.py:2449: FutureWarning: elementwise comparison failed; returning scalar instead, but in the future will perform elementwise comparison\n",
            "  return bool(asarray(a1 == a2).all())\n",
            "<ipython-input-37-aacb80e307ab>:1: FutureWarning: Values are too large to be losslessly cast to int64. In a future version this will raise OverflowError. To retain the old behavior, use pd.Series(values).astype(int64)\n",
            "  print(pd.Series([1,2,'9',3.1],dtype='int64')) # หรือ dtype=int\n"
          ]
        }
      ]
    },
    {
      "cell_type": "markdown",
      "metadata": {
        "id": "wwYM5fXxdpRs"
      },
      "source": [
        "**Creating a series from an ndarray**"
      ]
    },
    {
      "cell_type": "code",
      "metadata": {
        "id": "FmQPnXOkdYrC",
        "colab": {
          "base_uri": "https://localhost:8080/"
        },
        "outputId": "bdfeb66e-f471-41cc-b7be-9ed69a97b90c"
      },
      "source": [
        "# Note that indexes are a assigned automatically if not specifies\n",
        "arr = np.array([10,20,30,40,50])\n",
        "series1 = pd.Series(arr)\n",
        "print(series1)\n",
        "print(series1.index)"
      ],
      "execution_count": null,
      "outputs": [
        {
          "output_type": "stream",
          "name": "stdout",
          "text": [
            "0    10\n",
            "1    20\n",
            "2    30\n",
            "3    40\n",
            "4    50\n",
            "dtype: int64\n",
            "RangeIndex(start=0, stop=5, step=1)\n"
          ]
        }
      ]
    },
    {
      "cell_type": "markdown",
      "metadata": {
        "id": "uyv1cApjd9hu"
      },
      "source": [
        "**Creating a series from a Python dict**"
      ]
    },
    {
      "cell_type": "code",
      "metadata": {
        "id": "2DYcMNYud-r4",
        "colab": {
          "base_uri": "https://localhost:8080/"
        },
        "outputId": "70a85394-2f2f-4e59-a36b-07ae76f8cad9"
      },
      "source": [
        "# Note that the keys of the dictionary are used to assign indexes during conversion\n",
        "data = {'a':10, 'b':20, 'c':30}\n",
        "series2 = pd.Series(data)\n",
        "print(series2)\n",
        "print(series2.index)"
      ],
      "execution_count": null,
      "outputs": [
        {
          "output_type": "stream",
          "name": "stdout",
          "text": [
            "a    10\n",
            "b    20\n",
            "c    30\n",
            "dtype: int64\n",
            "Index(['a', 'b', 'c'], dtype='object')\n"
          ]
        }
      ]
    },
    {
      "cell_type": "markdown",
      "metadata": {
        "id": "nDuh4n1kg2Ft"
      },
      "source": [
        "index เป็นได้ทั้งตัวเลข หรือตัวอักษร"
      ]
    },
    {
      "cell_type": "markdown",
      "metadata": {
        "id": "tTurHXw6eEY9"
      },
      "source": [
        "###**Retrieving a part of the series**"
      ]
    },
    {
      "cell_type": "code",
      "metadata": {
        "id": "yc2aU2LmeIG9",
        "colab": {
          "base_uri": "https://localhost:8080/"
        },
        "outputId": "fadd2106-2fa7-467d-c186-e6b31af6568e"
      },
      "source": [
        "print(series1[1:4])"
      ],
      "execution_count": null,
      "outputs": [
        {
          "output_type": "stream",
          "name": "stdout",
          "text": [
            "1    20\n",
            "2    30\n",
            "3    40\n",
            "dtype: int64\n"
          ]
        }
      ]
    },
    {
      "cell_type": "markdown",
      "metadata": {
        "id": "zENe4xxSgHin"
      },
      "source": [
        "ข้อมูลภายในสามารถเข้าถึงได้โดยอาศัยดัชนีซึ่งอยู่ทางซ้าย\n",
        "\n",
        "เช่น"
      ]
    },
    {
      "cell_type": "code",
      "metadata": {
        "id": "GG__S4_lgLaK",
        "colab": {
          "base_uri": "https://localhost:8080/"
        },
        "outputId": "0ec35bc7-596c-4862-d89e-813b44e4c4ae"
      },
      "source": [
        "myser = pd.Series(['สุดา','ลิชา','ติช่า','มาม่อน','พิพี'])\n",
        "print(myser[0])\n",
        "print(myser[2])\n",
        "print(myser.index)"
      ],
      "execution_count": null,
      "outputs": [
        {
          "output_type": "stream",
          "name": "stdout",
          "text": [
            "สุดา\n",
            "ติช่า\n",
            "RangeIndex(start=0, stop=5, step=1)\n"
          ]
        }
      ]
    },
    {
      "cell_type": "code",
      "metadata": {
        "id": "jQKUWLRfiMYH",
        "colab": {
          "base_uri": "https://localhost:8080/"
        },
        "outputId": "a2222b3f-2119-4228-de86-631299e2c812"
      },
      "source": [
        "myser = pd.Series(['สุดา','ลิชา','ติช่า','มาม่อน','พิพี'],index=['๐๐๒','๐๐๕','๐๐๘','๐๑๑','๐๑๔'])\n",
        "#ใส่คีย์เวิร์ด index เพิ่มเข้าไปเองได้ตามที่เราต้องการ\n",
        "print(myser.index) #ดึงเอาแต่ค่า index ออกมา\n",
        "print(myser.values) #เอาเฉพาะค่าข้อมูลออกมาในรูปของ array\n",
        "print(myser[2])\n",
        "print(myser[2:4]) #การเข้าถึงข้อมูลเป็นกลุ่ม"
      ],
      "execution_count": null,
      "outputs": [
        {
          "output_type": "stream",
          "name": "stdout",
          "text": [
            "Index(['๐๐๒', '๐๐๕', '๐๐๘', '๐๑๑', '๐๑๔'], dtype='object')\n",
            "['สุดา' 'ลิชา' 'ติช่า' 'มาม่อน' 'พิพี']\n",
            "ติช่า\n",
            "๐๐๘     ติช่า\n",
            "๐๑๑    มาม่อน\n",
            "dtype: object\n"
          ]
        }
      ]
    },
    {
      "cell_type": "code",
      "metadata": {
        "id": "y-wvXKpuibwQ",
        "colab": {
          "base_uri": "https://localhost:8080/"
        },
        "outputId": "0beb7d8d-5db6-4b16-a65f-1f9bce97564e"
      },
      "source": [
        "print(myser[[2,1,4]])"
      ],
      "execution_count": null,
      "outputs": [
        {
          "output_type": "stream",
          "name": "stdout",
          "text": [
            "๐๐๘    ติช่า\n",
            "๐๐๕     ลิชา\n",
            "๐๑๔     พิพี\n",
            "dtype: object\n"
          ]
        }
      ]
    },
    {
      "cell_type": "markdown",
      "metadata": {
        "id": "Fm-Cb41Zj9oW"
      },
      "source": [
        "###การวิเคราะห์ข้อมูลใน Series"
      ]
    },
    {
      "cell_type": "code",
      "metadata": {
        "id": "w7BTN7RTkH4z",
        "colab": {
          "base_uri": "https://localhost:8080/"
        },
        "outputId": "4f4cc3a2-0a8b-467b-81f9-f05c67854e0b"
      },
      "source": [
        "stu = pd.Series(\n",
        "    [15.0,19.9,54.4,10.8,12.43,19.15],\n",
        "    index=['หมูน้อย','มานพ','สุดา','สิทธา','สามจอม','วันดี']\n",
        ")\n",
        "print(stu.sum())\n",
        "print(stu.mean())\n",
        "print(stu.max())\n",
        "print(stu.argmax())\n",
        "print(stu.min())\n",
        "print(stu.argmin())\n",
        "print(stu.std())\n",
        "print(stu)"
      ],
      "execution_count": null,
      "outputs": [
        {
          "output_type": "stream",
          "name": "stdout",
          "text": [
            "131.68\n",
            "21.94666666666667\n",
            "54.4\n",
            "2\n",
            "10.8\n",
            "3\n",
            "16.299081773727828\n",
            "หมูน้อย    15.00\n",
            "มานพ       19.90\n",
            "สุดา       54.40\n",
            "สิทธา      10.80\n",
            "สามจอม     12.43\n",
            "วันดี      19.15\n",
            "dtype: float64\n"
          ]
        }
      ]
    },
    {
      "cell_type": "markdown",
      "metadata": {
        "id": "tYksEcPNlHnD"
      },
      "source": [
        "###การเพิ่มและแก้ไขข้อมูล"
      ]
    },
    {
      "cell_type": "code",
      "metadata": {
        "id": "Vnkm7fDjk7ql",
        "colab": {
          "base_uri": "https://localhost:8080/"
        },
        "outputId": "d54fe3ec-ab9d-44a8-9b1d-3f1dfdc31d5c"
      },
      "source": [
        "stu['มิตติ'] = 31.8 #การเพิ่ม\n",
        "stu['พาวา'] = 23.57 #การเพิ่ม\n",
        "stu['หมูน้อย'] = 30 #แก้ไขข้อมูล\n",
        "print(stu)"
      ],
      "execution_count": null,
      "outputs": [
        {
          "output_type": "stream",
          "name": "stdout",
          "text": [
            "หมูน้อย    30.00\n",
            "มานพ       19.90\n",
            "สุดา       54.40\n",
            "สิทธา      10.80\n",
            "สามจอม     12.43\n",
            "วันดี      19.15\n",
            "มิตติ      31.80\n",
            "พาวา       23.57\n",
            "dtype: float64\n"
          ]
        }
      ]
    },
    {
      "cell_type": "markdown",
      "metadata": {
        "id": "Zm0bkRj-loxp"
      },
      "source": [
        "Series เป็นแค่แถวของข้อมูลซึ่งมีเพียงมิติเดียว\n",
        "\n",
        "ถ้าเรามีข้อมูลหลายชุด จำเป็นจะต้องสร้าง Series หลายอัน\n",
        "\n",
        "Series หลายอันจะมารวมเข้าเป็นตาราง\n",
        "\n",
        "ตารางข้อมูลที่เกิดจากการรวมนั้นก็คือ DataFrames\n",
        "\n",
        "Series อาจเทียบได้กับ array 1 มิติ\n",
        "\n",
        "DataFrames อาจเทียบได้กับ array 2 มิติ"
      ]
    },
    {
      "cell_type": "markdown",
      "metadata": {
        "id": "da2GtVEHeQA0"
      },
      "source": [
        "##**DataFrames**\n",
        "1. A DataFrame is a 2D data structure in which data is aligned in a tabular fashion consisting of rows & columns\n",
        "2. A DataFrame can be created using the following constructor - pandas.DataFrame(data, index, dtype, copy)\n",
        "3. Data can be of multiple data types such as ndarray, list, constants, series, dict etc.\n",
        "4. Index Row and column labels of the dataframe; defaults to np.arrange(n) if no index is passed\n",
        "5. Data type of each column\n",
        "6. Creates a deep copy of the data, set to false as default"
      ]
    },
    {
      "cell_type": "markdown",
      "metadata": {
        "id": "8kqdxuRVejnt"
      },
      "source": [
        "###**Creating a DataFrame**\n",
        "\n",
        "DataFrame สามารถถูกสร้างขึ้นได้โดยใช้\n",
        "```\n",
        "pd.DataFrame()\n",
        "```\n",
        "วิธีการสร้างนั้นมีหลายวิธี"
      ]
    },
    {
      "cell_type": "markdown",
      "metadata": {
        "id": "3un3C527epNF"
      },
      "source": [
        "**Converting a list into a DataFrame**"
      ]
    },
    {
      "cell_type": "code",
      "metadata": {
        "id": "8wWjPtLneshj",
        "colab": {
          "base_uri": "https://localhost:8080/"
        },
        "outputId": "0567728e-e13d-4d15-e5af-3cc6aebe48e4"
      },
      "source": [
        "list1 = [10, 20, 30, 40]\n",
        "print(list1[0])\n",
        "print(list1[2])\n",
        "table = pd.DataFrame(list1)\n",
        "print(table)"
      ],
      "execution_count": null,
      "outputs": [
        {
          "output_type": "stream",
          "name": "stdout",
          "text": [
            "10\n",
            "30\n",
            "    0\n",
            "0  10\n",
            "1  20\n",
            "2  30\n",
            "3  40\n"
          ]
        }
      ]
    },
    {
      "cell_type": "markdown",
      "metadata": {
        "id": "RpkQnQRqoLwv"
      },
      "source": [
        "ตัวอย่าง สร้างตารางข้อมูลของนักเรียน ซึ่งข้อมูลประกอบไปด้วยชื่อ, เพศ, ส่วนสูง และน้ำหนัก ข้อมูลแต่ละอย่างใส่ในคนละคอลัมน์ และหนึ่งแถวคือนักเรียนหนึ่งคน"
      ]
    },
    {
      "cell_type": "code",
      "metadata": {
        "id": "1xkiYkbunqUr",
        "colab": {
          "base_uri": "https://localhost:8080/"
        },
        "outputId": "0b4f5776-fdd4-4d14-8167-b1aea34f7b47"
      },
      "source": [
        "s = [['สุดา','ญ',150,64],\n",
        "     ['มานพ','ช',160,55],\n",
        "     ['ยานี','ญ',157,65]]\n",
        "print(s[0])\n",
        "print(s[2])\n",
        "stu = pd.DataFrame(s)\n",
        "print(stu)"
      ],
      "execution_count": null,
      "outputs": [
        {
          "output_type": "stream",
          "name": "stdout",
          "text": [
            "['สุดา', 'ญ', 150, 64]\n",
            "['ยานี', 'ญ', 157, 65]\n",
            "      0  1    2   3\n",
            "0  สุดา  ญ  150  64\n",
            "1  มานพ  ช  160  55\n",
            "2  ยานี  ญ  157  65\n"
          ]
        }
      ]
    },
    {
      "cell_type": "markdown",
      "metadata": {
        "id": "v5mugr96ewFI"
      },
      "source": [
        "**Creating a DataFrame from a list of dictionaries**"
      ]
    },
    {
      "cell_type": "code",
      "metadata": {
        "id": "goC4cI8Geyrp",
        "colab": {
          "base_uri": "https://localhost:8080/"
        },
        "outputId": "0b5890bc-906e-42b1-dfc6-34ea54408dff"
      },
      "source": [
        "data = [{'a':1, 'b':2}, {'a':2, 'b':4, 'c':8}]\n",
        "table1 = pd.DataFrame(data)\n",
        "print(table1)\n",
        "# NaN (not a number) is stored in areas where no data is provided"
      ],
      "execution_count": null,
      "outputs": [
        {
          "output_type": "stream",
          "name": "stdout",
          "text": [
            "   a  b    c\n",
            "0  1  2  NaN\n",
            "1  2  4  8.0\n"
          ]
        }
      ]
    },
    {
      "cell_type": "markdown",
      "metadata": {
        "id": "O4TlxGmZe28F"
      },
      "source": [
        "**Creating a DataFrame from a list of dictionaries and accompaying row indices**"
      ]
    },
    {
      "cell_type": "code",
      "metadata": {
        "id": "7pK9-YxFe8Qx",
        "colab": {
          "base_uri": "https://localhost:8080/"
        },
        "outputId": "65697aca-5bd2-4e34-c4ab-6baa3838795e"
      },
      "source": [
        "table2 = pd.DataFrame(data, index = ['first', 'second'])\n",
        "# Dict keys become column lables\n",
        "print(table2)"
      ],
      "execution_count": null,
      "outputs": [
        {
          "output_type": "stream",
          "name": "stdout",
          "text": [
            "        a  b    c\n",
            "first   1  2  NaN\n",
            "second  2  4  8.0\n"
          ]
        }
      ]
    },
    {
      "cell_type": "markdown",
      "metadata": {
        "id": "hA1TaqJOfA5y"
      },
      "source": [
        "**Converting a dictionary of series into a DataFrame**"
      ]
    },
    {
      "cell_type": "code",
      "metadata": {
        "id": "9Y7tnQOlfCRx",
        "colab": {
          "base_uri": "https://localhost:8080/"
        },
        "outputId": "ddc1309a-5ac2-461e-af8e-65ab3515fce1"
      },
      "source": [
        "data1 = {'one':pd.Series([1,2,3], index = ['a', 'b', 'c']),\n",
        "        'two':pd.Series([1,2,3,4], index = ['a', 'b', 'c', 'd'])}\n",
        "table3 = pd.DataFrame(data1)\n",
        "print(table3)\n",
        "# the resultant index is the union of all the series indexes passed"
      ],
      "execution_count": null,
      "outputs": [
        {
          "output_type": "stream",
          "name": "stdout",
          "text": [
            "   one  two\n",
            "a  1.0    1\n",
            "b  2.0    2\n",
            "c  3.0    3\n",
            "d  NaN    4\n"
          ]
        }
      ]
    },
    {
      "cell_type": "markdown",
      "metadata": {
        "id": "5avbmYaifIqj"
      },
      "source": [
        "###**Addition and Deletion**"
      ]
    },
    {
      "cell_type": "markdown",
      "metadata": {
        "id": "PVRsCI15fahk"
      },
      "source": [
        "**Addition & Deletion of Columns**"
      ]
    },
    {
      "cell_type": "code",
      "metadata": {
        "id": "omt5C96efjvq",
        "colab": {
          "base_uri": "https://localhost:8080/"
        },
        "outputId": "80876322-e81a-4e67-b2d6-56468859f62e"
      },
      "source": [
        "# A new column can be added to a DataFrame when the data is passed as a Series\n",
        "table3['three'] = pd.Series([10,20,30], index = ['a', 'b', 'c'])\n",
        "print(table3)"
      ],
      "execution_count": null,
      "outputs": [
        {
          "output_type": "stream",
          "name": "stdout",
          "text": [
            "   one  two  three\n",
            "a  1.0    1   10.0\n",
            "b  2.0    2   20.0\n",
            "c  3.0    3   30.0\n",
            "d  NaN    4    NaN\n"
          ]
        }
      ]
    },
    {
      "cell_type": "code",
      "metadata": {
        "id": "OcFZ62CUfnW5",
        "colab": {
          "base_uri": "https://localhost:8080/"
        },
        "outputId": "7e9b30db-8049-4c84-f2bd-2dc1be8b692b"
      },
      "source": [
        "# DataFrame columns can be deleted using the del() function\n",
        "del table3['one']\n",
        "print(table3)"
      ],
      "execution_count": null,
      "outputs": [
        {
          "output_type": "stream",
          "name": "stdout",
          "text": [
            "   two  three\n",
            "a    1   10.0\n",
            "b    2   20.0\n",
            "c    3   30.0\n",
            "d    4    NaN\n"
          ]
        }
      ]
    },
    {
      "cell_type": "code",
      "metadata": {
        "id": "9AAZz8MDfsMy",
        "colab": {
          "base_uri": "https://localhost:8080/"
        },
        "outputId": "c559eac3-be22-4d6c-ff0d-8d8ba0f3de57"
      },
      "source": [
        "# DataFrame columns can be deleted using the pop() function\n",
        "table3.pop('two')\n",
        "print(table3)"
      ],
      "execution_count": null,
      "outputs": [
        {
          "output_type": "stream",
          "name": "stdout",
          "text": [
            "   three\n",
            "a   10.0\n",
            "b   20.0\n",
            "c   30.0\n",
            "d    NaN\n"
          ]
        }
      ]
    },
    {
      "cell_type": "code",
      "source": [
        "print(table3)"
      ],
      "metadata": {
        "colab": {
          "base_uri": "https://localhost:8080/"
        },
        "id": "PrMlsk6pCa47",
        "outputId": "f96ca152-c0b6-4970-b696-a6cb66f43ff6"
      },
      "execution_count": null,
      "outputs": [
        {
          "output_type": "stream",
          "name": "stdout",
          "text": [
            "   three\n",
            "a   10.0\n",
            "b   20.0\n",
            "c   30.0\n",
            "d    NaN\n"
          ]
        }
      ]
    },
    {
      "cell_type": "markdown",
      "metadata": {
        "id": "JipOCNyLfzBM"
      },
      "source": [
        "**Addition & Deletion of Rows**"
      ]
    },
    {
      "cell_type": "code",
      "metadata": {
        "id": "9kCiH_OAf0pf",
        "colab": {
          "base_uri": "https://localhost:8080/"
        },
        "outputId": "158e9f3a-61a8-477d-8ffd-10bfcd8e110f"
      },
      "source": [
        "# DataFrame rows can be selected by passing the row lable to the loc() function\n",
        "print(table3.loc['c'])"
      ],
      "execution_count": null,
      "outputs": [
        {
          "output_type": "stream",
          "name": "stdout",
          "text": [
            "three    30.0\n",
            "Name: c, dtype: float64\n"
          ]
        }
      ]
    },
    {
      "cell_type": "code",
      "metadata": {
        "id": "eGK5RIO2f8Pb",
        "colab": {
          "base_uri": "https://localhost:8080/"
        },
        "outputId": "f242bc05-53ba-4be2-ea98-43ac003054f6"
      },
      "source": [
        "# Row selection can also be done using the row index\n",
        "print(table3.iloc[1])"
      ],
      "execution_count": null,
      "outputs": [
        {
          "output_type": "stream",
          "name": "stdout",
          "text": [
            "three    20.0\n",
            "Name: b, dtype: float64\n"
          ]
        }
      ]
    },
    {
      "cell_type": "code",
      "metadata": {
        "id": "73jVFMRqgGrL",
        "colab": {
          "base_uri": "https://localhost:8080/"
        },
        "outputId": "cc4a9e93-82bd-46dc-a00c-3e239b3d0a68"
      },
      "source": [
        "# The append() function can be used to add more rows to the DataFrame\n",
        "data2 = {'one':pd.Series([1,2,3], index = ['a', 'b', 'c']),\n",
        "        'two':pd.Series([1,2,3,4], index = ['a', 'b', 'c', 'd'])}\n",
        "table5 = pd.DataFrame(data2)\n",
        "table5['three'] = pd.Series([10,20,30], index = ['a', 'b', 'c'])\n",
        "row = pd.DataFrame([[11,13],[17,19]], columns = ['two', 'three'])\n",
        "table6 = table5.append(row)\n",
        "print(table6)"
      ],
      "execution_count": null,
      "outputs": [
        {
          "output_type": "stream",
          "name": "stdout",
          "text": [
            "   one  two  three\n",
            "a  1.0    1   10.0\n",
            "b  2.0    2   20.0\n",
            "c  3.0    3   30.0\n",
            "d  NaN    4    NaN\n",
            "0  NaN   11   13.0\n",
            "1  NaN   17   19.0\n"
          ]
        },
        {
          "output_type": "stream",
          "name": "stderr",
          "text": [
            "<ipython-input-57-a6ff0ea3643f>:7: FutureWarning: The frame.append method is deprecated and will be removed from pandas in a future version. Use pandas.concat instead.\n",
            "  table6 = table5.append(row)\n"
          ]
        }
      ]
    },
    {
      "cell_type": "code",
      "metadata": {
        "id": "nORqHMLDgQuD",
        "colab": {
          "base_uri": "https://localhost:8080/"
        },
        "outputId": "4ea74f84-79b5-40e2-c019-a01ec71c93cc"
      },
      "source": [
        "# The drop() function can be used to drop rows whose labels are provided\n",
        "table7 = table6.drop('a')\n",
        "print(table7)"
      ],
      "execution_count": null,
      "outputs": [
        {
          "output_type": "stream",
          "name": "stdout",
          "text": [
            "   one  two  three\n",
            "b  2.0    2   20.0\n",
            "c  3.0    3   30.0\n",
            "d  NaN    4    NaN\n",
            "0  NaN   11   13.0\n",
            "1  NaN   17   19.0\n"
          ]
        }
      ]
    },
    {
      "cell_type": "markdown",
      "metadata": {
        "id": "p3eNN7AO_uEl"
      },
      "source": [
        "##แบบฝึกหัด WS#2.1\n",
        "ขอให้นักศึกษานำข้อมูลจาก Wine dataset มาทำการคำนวณค่าทาง statistics\n",
        "โดยแสดงค่าต่อไปนี้\n",
        "ค่า sum\n",
        "ค่า mean\n",
        "ค่า max\n",
        "ค่า sd\n",
        "ของแต่ละแอททริบิวต์ และแสดงผลลัพธ์ออกมาทางจอภาพ\n",
        "\n"
      ]
    },
    {
      "cell_type": "code",
      "source": [
        "import pandas as pd\n",
        "path = '/content/drive/MyDrive/AI/dataset/wine_data - wine_data.csv'\n",
        "myfiledata = pd.read_csv(path,header = None) ## Dataset is now stored in a Pandas Dataframe\n",
        "myfiledata"
      ],
      "metadata": {
        "id": "0sncTo04uZbD",
        "colab": {
          "base_uri": "https://localhost:8080/",
          "height": 424
        },
        "outputId": "38ca7e86-45bd-4458-f071-0d98eafca635"
      },
      "execution_count": null,
      "outputs": [
        {
          "output_type": "execute_result",
          "data": {
            "text/plain": [
              "     0      1     2     3     4    5     6     7     8     9      10    11  \\\n",
              "0     1  14.23  1.71  2.43  15.6  127  2.80  3.06  0.28  2.29   5.64  1.04   \n",
              "1     1  13.20  1.78  2.14  11.2  100  2.65  2.76  0.26  1.28   4.38  1.05   \n",
              "2     1  13.16  2.36  2.67  18.6  101  2.80  3.24  0.30  2.81   5.68  1.03   \n",
              "3     1  14.37  1.95  2.50  16.8  113  3.85  3.49  0.24  2.18   7.80  0.86   \n",
              "4     1  13.24  2.59  2.87  21.0  118  2.80  2.69  0.39  1.82   4.32  1.04   \n",
              "..   ..    ...   ...   ...   ...  ...   ...   ...   ...   ...    ...   ...   \n",
              "173   3  13.71  5.65  2.45  20.5   95  1.68  0.61  0.52  1.06   7.70  0.64   \n",
              "174   3  13.40  3.91  2.48  23.0  102  1.80  0.75  0.43  1.41   7.30  0.70   \n",
              "175   3  13.27  4.28  2.26  20.0  120  1.59  0.69  0.43  1.35  10.20  0.59   \n",
              "176   3  13.17  2.59  2.37  20.0  120  1.65  0.68  0.53  1.46   9.30  0.60   \n",
              "177   3  14.13  4.10  2.74  24.5   96  2.05  0.76  0.56  1.35   9.20  0.61   \n",
              "\n",
              "       12    13  \n",
              "0    3.92  1065  \n",
              "1    3.40  1050  \n",
              "2    3.17  1185  \n",
              "3    3.45  1480  \n",
              "4    2.93   735  \n",
              "..    ...   ...  \n",
              "173  1.74   740  \n",
              "174  1.56   750  \n",
              "175  1.56   835  \n",
              "176  1.62   840  \n",
              "177  1.60   560  \n",
              "\n",
              "[178 rows x 14 columns]"
            ],
            "text/html": [
              "\n",
              "\n",
              "  <div id=\"df-ebc2711f-28bb-44dc-b20c-6edd434f0feb\">\n",
              "    <div class=\"colab-df-container\">\n",
              "      <div>\n",
              "<style scoped>\n",
              "    .dataframe tbody tr th:only-of-type {\n",
              "        vertical-align: middle;\n",
              "    }\n",
              "\n",
              "    .dataframe tbody tr th {\n",
              "        vertical-align: top;\n",
              "    }\n",
              "\n",
              "    .dataframe thead th {\n",
              "        text-align: right;\n",
              "    }\n",
              "</style>\n",
              "<table border=\"1\" class=\"dataframe\">\n",
              "  <thead>\n",
              "    <tr style=\"text-align: right;\">\n",
              "      <th></th>\n",
              "      <th>0</th>\n",
              "      <th>1</th>\n",
              "      <th>2</th>\n",
              "      <th>3</th>\n",
              "      <th>4</th>\n",
              "      <th>5</th>\n",
              "      <th>6</th>\n",
              "      <th>7</th>\n",
              "      <th>8</th>\n",
              "      <th>9</th>\n",
              "      <th>10</th>\n",
              "      <th>11</th>\n",
              "      <th>12</th>\n",
              "      <th>13</th>\n",
              "    </tr>\n",
              "  </thead>\n",
              "  <tbody>\n",
              "    <tr>\n",
              "      <th>0</th>\n",
              "      <td>1</td>\n",
              "      <td>14.23</td>\n",
              "      <td>1.71</td>\n",
              "      <td>2.43</td>\n",
              "      <td>15.6</td>\n",
              "      <td>127</td>\n",
              "      <td>2.80</td>\n",
              "      <td>3.06</td>\n",
              "      <td>0.28</td>\n",
              "      <td>2.29</td>\n",
              "      <td>5.64</td>\n",
              "      <td>1.04</td>\n",
              "      <td>3.92</td>\n",
              "      <td>1065</td>\n",
              "    </tr>\n",
              "    <tr>\n",
              "      <th>1</th>\n",
              "      <td>1</td>\n",
              "      <td>13.20</td>\n",
              "      <td>1.78</td>\n",
              "      <td>2.14</td>\n",
              "      <td>11.2</td>\n",
              "      <td>100</td>\n",
              "      <td>2.65</td>\n",
              "      <td>2.76</td>\n",
              "      <td>0.26</td>\n",
              "      <td>1.28</td>\n",
              "      <td>4.38</td>\n",
              "      <td>1.05</td>\n",
              "      <td>3.40</td>\n",
              "      <td>1050</td>\n",
              "    </tr>\n",
              "    <tr>\n",
              "      <th>2</th>\n",
              "      <td>1</td>\n",
              "      <td>13.16</td>\n",
              "      <td>2.36</td>\n",
              "      <td>2.67</td>\n",
              "      <td>18.6</td>\n",
              "      <td>101</td>\n",
              "      <td>2.80</td>\n",
              "      <td>3.24</td>\n",
              "      <td>0.30</td>\n",
              "      <td>2.81</td>\n",
              "      <td>5.68</td>\n",
              "      <td>1.03</td>\n",
              "      <td>3.17</td>\n",
              "      <td>1185</td>\n",
              "    </tr>\n",
              "    <tr>\n",
              "      <th>3</th>\n",
              "      <td>1</td>\n",
              "      <td>14.37</td>\n",
              "      <td>1.95</td>\n",
              "      <td>2.50</td>\n",
              "      <td>16.8</td>\n",
              "      <td>113</td>\n",
              "      <td>3.85</td>\n",
              "      <td>3.49</td>\n",
              "      <td>0.24</td>\n",
              "      <td>2.18</td>\n",
              "      <td>7.80</td>\n",
              "      <td>0.86</td>\n",
              "      <td>3.45</td>\n",
              "      <td>1480</td>\n",
              "    </tr>\n",
              "    <tr>\n",
              "      <th>4</th>\n",
              "      <td>1</td>\n",
              "      <td>13.24</td>\n",
              "      <td>2.59</td>\n",
              "      <td>2.87</td>\n",
              "      <td>21.0</td>\n",
              "      <td>118</td>\n",
              "      <td>2.80</td>\n",
              "      <td>2.69</td>\n",
              "      <td>0.39</td>\n",
              "      <td>1.82</td>\n",
              "      <td>4.32</td>\n",
              "      <td>1.04</td>\n",
              "      <td>2.93</td>\n",
              "      <td>735</td>\n",
              "    </tr>\n",
              "    <tr>\n",
              "      <th>...</th>\n",
              "      <td>...</td>\n",
              "      <td>...</td>\n",
              "      <td>...</td>\n",
              "      <td>...</td>\n",
              "      <td>...</td>\n",
              "      <td>...</td>\n",
              "      <td>...</td>\n",
              "      <td>...</td>\n",
              "      <td>...</td>\n",
              "      <td>...</td>\n",
              "      <td>...</td>\n",
              "      <td>...</td>\n",
              "      <td>...</td>\n",
              "      <td>...</td>\n",
              "    </tr>\n",
              "    <tr>\n",
              "      <th>173</th>\n",
              "      <td>3</td>\n",
              "      <td>13.71</td>\n",
              "      <td>5.65</td>\n",
              "      <td>2.45</td>\n",
              "      <td>20.5</td>\n",
              "      <td>95</td>\n",
              "      <td>1.68</td>\n",
              "      <td>0.61</td>\n",
              "      <td>0.52</td>\n",
              "      <td>1.06</td>\n",
              "      <td>7.70</td>\n",
              "      <td>0.64</td>\n",
              "      <td>1.74</td>\n",
              "      <td>740</td>\n",
              "    </tr>\n",
              "    <tr>\n",
              "      <th>174</th>\n",
              "      <td>3</td>\n",
              "      <td>13.40</td>\n",
              "      <td>3.91</td>\n",
              "      <td>2.48</td>\n",
              "      <td>23.0</td>\n",
              "      <td>102</td>\n",
              "      <td>1.80</td>\n",
              "      <td>0.75</td>\n",
              "      <td>0.43</td>\n",
              "      <td>1.41</td>\n",
              "      <td>7.30</td>\n",
              "      <td>0.70</td>\n",
              "      <td>1.56</td>\n",
              "      <td>750</td>\n",
              "    </tr>\n",
              "    <tr>\n",
              "      <th>175</th>\n",
              "      <td>3</td>\n",
              "      <td>13.27</td>\n",
              "      <td>4.28</td>\n",
              "      <td>2.26</td>\n",
              "      <td>20.0</td>\n",
              "      <td>120</td>\n",
              "      <td>1.59</td>\n",
              "      <td>0.69</td>\n",
              "      <td>0.43</td>\n",
              "      <td>1.35</td>\n",
              "      <td>10.20</td>\n",
              "      <td>0.59</td>\n",
              "      <td>1.56</td>\n",
              "      <td>835</td>\n",
              "    </tr>\n",
              "    <tr>\n",
              "      <th>176</th>\n",
              "      <td>3</td>\n",
              "      <td>13.17</td>\n",
              "      <td>2.59</td>\n",
              "      <td>2.37</td>\n",
              "      <td>20.0</td>\n",
              "      <td>120</td>\n",
              "      <td>1.65</td>\n",
              "      <td>0.68</td>\n",
              "      <td>0.53</td>\n",
              "      <td>1.46</td>\n",
              "      <td>9.30</td>\n",
              "      <td>0.60</td>\n",
              "      <td>1.62</td>\n",
              "      <td>840</td>\n",
              "    </tr>\n",
              "    <tr>\n",
              "      <th>177</th>\n",
              "      <td>3</td>\n",
              "      <td>14.13</td>\n",
              "      <td>4.10</td>\n",
              "      <td>2.74</td>\n",
              "      <td>24.5</td>\n",
              "      <td>96</td>\n",
              "      <td>2.05</td>\n",
              "      <td>0.76</td>\n",
              "      <td>0.56</td>\n",
              "      <td>1.35</td>\n",
              "      <td>9.20</td>\n",
              "      <td>0.61</td>\n",
              "      <td>1.60</td>\n",
              "      <td>560</td>\n",
              "    </tr>\n",
              "  </tbody>\n",
              "</table>\n",
              "<p>178 rows × 14 columns</p>\n",
              "</div>\n",
              "      <button class=\"colab-df-convert\" onclick=\"convertToInteractive('df-ebc2711f-28bb-44dc-b20c-6edd434f0feb')\"\n",
              "              title=\"Convert this dataframe to an interactive table.\"\n",
              "              style=\"display:none;\">\n",
              "\n",
              "  <svg xmlns=\"http://www.w3.org/2000/svg\" height=\"24px\"viewBox=\"0 0 24 24\"\n",
              "       width=\"24px\">\n",
              "    <path d=\"M0 0h24v24H0V0z\" fill=\"none\"/>\n",
              "    <path d=\"M18.56 5.44l.94 2.06.94-2.06 2.06-.94-2.06-.94-.94-2.06-.94 2.06-2.06.94zm-11 1L8.5 8.5l.94-2.06 2.06-.94-2.06-.94L8.5 2.5l-.94 2.06-2.06.94zm10 10l.94 2.06.94-2.06 2.06-.94-2.06-.94-.94-2.06-.94 2.06-2.06.94z\"/><path d=\"M17.41 7.96l-1.37-1.37c-.4-.4-.92-.59-1.43-.59-.52 0-1.04.2-1.43.59L10.3 9.45l-7.72 7.72c-.78.78-.78 2.05 0 2.83L4 21.41c.39.39.9.59 1.41.59.51 0 1.02-.2 1.41-.59l7.78-7.78 2.81-2.81c.8-.78.8-2.07 0-2.86zM5.41 20L4 18.59l7.72-7.72 1.47 1.35L5.41 20z\"/>\n",
              "  </svg>\n",
              "      </button>\n",
              "\n",
              "\n",
              "\n",
              "    <div id=\"df-01ea06ef-be50-45f2-b943-de6fbae76c8d\">\n",
              "      <button class=\"colab-df-quickchart\" onclick=\"quickchart('df-01ea06ef-be50-45f2-b943-de6fbae76c8d')\"\n",
              "              title=\"Suggest charts.\"\n",
              "              style=\"display:none;\">\n",
              "\n",
              "<svg xmlns=\"http://www.w3.org/2000/svg\" height=\"24px\"viewBox=\"0 0 24 24\"\n",
              "     width=\"24px\">\n",
              "    <g>\n",
              "        <path d=\"M19 3H5c-1.1 0-2 .9-2 2v14c0 1.1.9 2 2 2h14c1.1 0 2-.9 2-2V5c0-1.1-.9-2-2-2zM9 17H7v-7h2v7zm4 0h-2V7h2v10zm4 0h-2v-4h2v4z\"/>\n",
              "    </g>\n",
              "</svg>\n",
              "      </button>\n",
              "    </div>\n",
              "\n",
              "<style>\n",
              "  .colab-df-quickchart {\n",
              "    background-color: #E8F0FE;\n",
              "    border: none;\n",
              "    border-radius: 50%;\n",
              "    cursor: pointer;\n",
              "    display: none;\n",
              "    fill: #1967D2;\n",
              "    height: 32px;\n",
              "    padding: 0 0 0 0;\n",
              "    width: 32px;\n",
              "  }\n",
              "\n",
              "  .colab-df-quickchart:hover {\n",
              "    background-color: #E2EBFA;\n",
              "    box-shadow: 0px 1px 2px rgba(60, 64, 67, 0.3), 0px 1px 3px 1px rgba(60, 64, 67, 0.15);\n",
              "    fill: #174EA6;\n",
              "  }\n",
              "\n",
              "  [theme=dark] .colab-df-quickchart {\n",
              "    background-color: #3B4455;\n",
              "    fill: #D2E3FC;\n",
              "  }\n",
              "\n",
              "  [theme=dark] .colab-df-quickchart:hover {\n",
              "    background-color: #434B5C;\n",
              "    box-shadow: 0px 1px 3px 1px rgba(0, 0, 0, 0.15);\n",
              "    filter: drop-shadow(0px 1px 2px rgba(0, 0, 0, 0.3));\n",
              "    fill: #FFFFFF;\n",
              "  }\n",
              "</style>\n",
              "\n",
              "    <script>\n",
              "      async function quickchart(key) {\n",
              "        const containerElement = document.querySelector('#' + key);\n",
              "        const charts = await google.colab.kernel.invokeFunction(\n",
              "            'suggestCharts', [key], {});\n",
              "      }\n",
              "    </script>\n",
              "\n",
              "      <script>\n",
              "\n",
              "function displayQuickchartButton(domScope) {\n",
              "  let quickchartButtonEl =\n",
              "    domScope.querySelector('#df-01ea06ef-be50-45f2-b943-de6fbae76c8d button.colab-df-quickchart');\n",
              "  quickchartButtonEl.style.display =\n",
              "    google.colab.kernel.accessAllowed ? 'block' : 'none';\n",
              "}\n",
              "\n",
              "        displayQuickchartButton(document);\n",
              "      </script>\n",
              "      <style>\n",
              "    .colab-df-container {\n",
              "      display:flex;\n",
              "      flex-wrap:wrap;\n",
              "      gap: 12px;\n",
              "    }\n",
              "\n",
              "    .colab-df-convert {\n",
              "      background-color: #E8F0FE;\n",
              "      border: none;\n",
              "      border-radius: 50%;\n",
              "      cursor: pointer;\n",
              "      display: none;\n",
              "      fill: #1967D2;\n",
              "      height: 32px;\n",
              "      padding: 0 0 0 0;\n",
              "      width: 32px;\n",
              "    }\n",
              "\n",
              "    .colab-df-convert:hover {\n",
              "      background-color: #E2EBFA;\n",
              "      box-shadow: 0px 1px 2px rgba(60, 64, 67, 0.3), 0px 1px 3px 1px rgba(60, 64, 67, 0.15);\n",
              "      fill: #174EA6;\n",
              "    }\n",
              "\n",
              "    [theme=dark] .colab-df-convert {\n",
              "      background-color: #3B4455;\n",
              "      fill: #D2E3FC;\n",
              "    }\n",
              "\n",
              "    [theme=dark] .colab-df-convert:hover {\n",
              "      background-color: #434B5C;\n",
              "      box-shadow: 0px 1px 3px 1px rgba(0, 0, 0, 0.15);\n",
              "      filter: drop-shadow(0px 1px 2px rgba(0, 0, 0, 0.3));\n",
              "      fill: #FFFFFF;\n",
              "    }\n",
              "  </style>\n",
              "\n",
              "      <script>\n",
              "        const buttonEl =\n",
              "          document.querySelector('#df-ebc2711f-28bb-44dc-b20c-6edd434f0feb button.colab-df-convert');\n",
              "        buttonEl.style.display =\n",
              "          google.colab.kernel.accessAllowed ? 'block' : 'none';\n",
              "\n",
              "        async function convertToInteractive(key) {\n",
              "          const element = document.querySelector('#df-ebc2711f-28bb-44dc-b20c-6edd434f0feb');\n",
              "          const dataTable =\n",
              "            await google.colab.kernel.invokeFunction('convertToInteractive',\n",
              "                                                     [key], {});\n",
              "          if (!dataTable) return;\n",
              "\n",
              "          const docLinkHtml = 'Like what you see? Visit the ' +\n",
              "            '<a target=\"_blank\" href=https://colab.research.google.com/notebooks/data_table.ipynb>data table notebook</a>'\n",
              "            + ' to learn more about interactive tables.';\n",
              "          element.innerHTML = '';\n",
              "          dataTable['output_type'] = 'display_data';\n",
              "          await google.colab.output.renderOutput(dataTable, element);\n",
              "          const docLink = document.createElement('div');\n",
              "          docLink.innerHTML = docLinkHtml;\n",
              "          element.appendChild(docLink);\n",
              "        }\n",
              "      </script>\n",
              "    </div>\n",
              "  </div>\n"
            ]
          },
          "metadata": {},
          "execution_count": 60
        }
      ]
    },
    {
      "cell_type": "code",
      "source": [
        "print(myfiledata.sum())\n",
        "print(myfiledata.mean())\n",
        "print(myfiledata.max())\n",
        "print(myfiledata.std())"
      ],
      "metadata": {
        "id": "Izh9Bql8Eayx",
        "colab": {
          "base_uri": "https://localhost:8080/"
        },
        "outputId": "3fd4ad1c-a877-4d68-880c-5e44a2cbbe3a"
      },
      "execution_count": null,
      "outputs": [
        {
          "output_type": "stream",
          "name": "stdout",
          "text": [
            "1           344.000000\n",
            "14.23      2299.880000\n",
            "1.71        414.160000\n",
            "2.43        418.810000\n",
            "15.6       3454.500000\n",
            "127       17627.000000\n",
            "2.8         405.730000\n",
            "3.06        358.150000\n",
            "0.28         64.130000\n",
            "2.29        280.890000\n",
            "5.64        894.699999\n",
            "1.04        169.386000\n",
            "3.92        460.960000\n",
            "1065     131882.000000\n",
            "dtype: float64\n",
            "1          1.943503\n",
            "14.23     12.993672\n",
            "1.71       2.339887\n",
            "2.43       2.366158\n",
            "15.6      19.516949\n",
            "127       99.587571\n",
            "2.8        2.292260\n",
            "3.06       2.023446\n",
            "0.28       0.362316\n",
            "2.29       1.586949\n",
            "5.64       5.054802\n",
            "1.04       0.956983\n",
            "3.92       2.604294\n",
            "1065     745.096045\n",
            "dtype: float64\n",
            "1           3.00\n",
            "14.23      14.83\n",
            "1.71        5.80\n",
            "2.43        3.23\n",
            "15.6       30.00\n",
            "127       162.00\n",
            "2.8         3.88\n",
            "3.06        5.08\n",
            "0.28        0.66\n",
            "2.29        3.58\n",
            "5.64       13.00\n",
            "1.04        1.71\n",
            "3.92        4.00\n",
            "1065     1680.00\n",
            "dtype: float64\n",
            "1          0.773991\n",
            "14.23      0.808808\n",
            "1.71       1.119314\n",
            "2.43       0.275080\n",
            "15.6       3.336071\n",
            "127       14.174018\n",
            "2.8        0.626465\n",
            "3.06       0.998658\n",
            "0.28       0.124653\n",
            "2.29       0.571545\n",
            "5.64       2.324446\n",
            "1.04       0.229135\n",
            "3.92       0.705103\n",
            "1065     314.884046\n",
            "dtype: float64\n"
          ]
        }
      ]
    },
    {
      "cell_type": "markdown",
      "metadata": {
        "id": "_wSmklhYUgdD"
      },
      "source": [
        "# **Matplotlib**\n",
        "* Matplotlib is a Python library that is specially designed for the development of graphs, charts etc., in order to provide interactive data visualisation\n",
        "* Matplotlib is inspired from the MATLAB software and reproduces many of it's features"
      ]
    },
    {
      "cell_type": "markdown",
      "metadata": {
        "id": "Pov3jt_trA9V"
      },
      "source": [
        "เราต้องทำการติดตั้ง และ import ก่อน\n",
        "\n",
        "โดยเราจะใช้ numpy ควบคู่ไปด้วย"
      ]
    },
    {
      "cell_type": "code",
      "metadata": {
        "id": "FVJ7Aqguf7F5"
      },
      "source": [
        "# Import Matplotlib submodule for plotting\n",
        "import matplotlib.pyplot as  plt\n",
        "#pyplot เป็น lib ย่อยของ matplotlib"
      ],
      "execution_count": null,
      "outputs": []
    },
    {
      "cell_type": "markdown",
      "metadata": {
        "id": "TrQyrQF5rjwb"
      },
      "source": [
        "กราฟที่วาดได้ใน matplotlib มีหลายชนิดด้วยกัน เช่น กราฟเส้น, แผนภูมิแท่ง, แผนภูมิวงกลม, การกระจาย, ฯลฯ\n",
        "\n",
        "ขอเร่ิมจากกราฟเส้นธรรมดา\n"
      ]
    },
    {
      "cell_type": "markdown",
      "metadata": {
        "id": "xfbrhDMqg9fg"
      },
      "source": [
        "##Plotting in Matplotlib"
      ]
    },
    {
      "cell_type": "markdown",
      "metadata": {
        "id": "cZ6-JGnhr2hJ"
      },
      "source": [
        "ฟังก์ชัน plot\n",
        "\n",
        "อาร์กิวเมนต์ที่ต้องใส่ในฟังก์ชันนี้คือพิกัดในแนวแกน x และ y\n",
        "\n",
        "ข้อมูลที่ใส่ต้องเป็นออบเจ็กต์ชนิดลำดับ เช่น ลิสต์, ทูเพิล, เรนต์ และสามารถใช้อาเรย์ของ numpy ได้ด้วย\n",
        "\n",
        "การวาดกราฟด้วย matplotlib นั้นเราสามารถปรับแต่งได้ตามต้องการ\n",
        "\n",
        "เช่นสีเส้น, รูปแบบเส้น, ขอบเขตกราฟ, ชื่อแกน, คำอธิบายเพิ่มเติม, ฯลฯ"
      ]
    },
    {
      "cell_type": "code",
      "metadata": {
        "id": "EkLF3vZVsRCG",
        "colab": {
          "base_uri": "https://localhost:8080/",
          "height": 430
        },
        "outputId": "0dd3c01c-126d-4635-f17d-b87589420b83"
      },
      "source": [
        "# กำหนดค่าของ x และ y ที่จะใช้\n",
        "#x = [0, 1, 2, 3, 4, 5, 6, 7, 8, 9, 10]\n",
        "#y = [0.0, 0.84, 0.91, 0.14, -0.76, -0.96, -0.28, 0.66, 0.99, 0.41, -0.54]\n",
        "x = np.arange(0,11)\n",
        "y = np.sin(x)\n",
        "# เริ่มวาดกราฟ\n",
        "plt.plot(x,y) # คำสั่งวาดกราฟ\n",
        "plt.show() # คำสั่งให้แสดง\n",
        "#ขอขอบคุณตัวอย่างจากเว็บ https://phyblas.hinaboshi.com/numa05"
      ],
      "execution_count": null,
      "outputs": [
        {
          "output_type": "display_data",
          "data": {
            "text/plain": [
              "<Figure size 640x480 with 1 Axes>"
            ],
            "image/png": "[encoded data removed]"
          },
          "metadata": {}
        }
      ]
    },
    {
      "cell_type": "markdown",
      "metadata": {
        "id": "6Z-3a5jltLHZ"
      },
      "source": [
        "##แบบฝึกหัด WS#2.2\n",
        "\n",
        "ขอให้นักศึกษาทดลองเปลี่ยนค่า\n",
        "```\n",
        "x = np.arange(0,11)\n",
        "y = np.sin(x)\n",
        "```\n",
        "โดยกำหนดให้ค่า x  เริ่มต้นจาก 50 จนถึง 70 แล้วหาค่า cos ของแต่ละค่า แล้วใช้คำสั่งวาดกราฟและแสดงผล"
      ]
    },
    {
      "cell_type": "code",
      "source": [
        "x = np.arange(50, 71)\n",
        "y = np.cos(x)\n",
        "plt.plot(x, y)\n",
        "plt.show()"
      ],
      "metadata": {
        "id": "VvINySVkD6z7",
        "colab": {
          "base_uri": "https://localhost:8080/",
          "height": 430
        },
        "outputId": "319d8047-a746-424a-85a1-3688fd1a0e02"
      },
      "execution_count": null,
      "outputs": [
        {
          "output_type": "display_data",
          "data": {
            "text/plain": [
              "<Figure size 640x480 with 1 Axes>"
            ],
            "image/png": "[encoded data removed]"
          },
          "metadata": {}
        }
      ]
    },
    {
      "cell_type": "markdown",
      "metadata": {
        "id": "1vmkhiMVhU99"
      },
      "source": [
        "##กราฟหลายเส้น สี ตาราง และ scale"
      ]
    },
    {
      "cell_type": "code",
      "metadata": {
        "id": "r704wKGQhZyx",
        "colab": {
          "base_uri": "https://localhost:8080/",
          "height": 435
        },
        "outputId": "5af21e46-8218-4567-f386-a4400e4d49ca"
      },
      "source": [
        "# Multiple functions can be drawn on the same plot\n",
        "x = range(5)\n",
        "plt.plot(x, [x1 for x1 in x],ls='--') #-', '--', '-.', ':', 'None', ' ', '', 'solid', 'dashed', 'dashdot', 'dotted'\n",
        "plt.plot(x, [x1*x1 for x1 in x],ls='--')\n",
        "plt.plot(x, [x1*x1*x1 for x1 in x],ls='--')\n",
        "plt.xlim(0, 4) # The scale of the plot can also be set using xlim() and ylim()\n",
        "plt.ylim(0, 80)\n",
        "plt.grid(True)\n",
        "plt.show()\n",
        "#สีของกราฟนี้ถูกกำหนดขึ้นโดยอัตโนมัติ  เส้นแรกเป็นสีน้ำเงิน เส้นต่อมาเป็นสีส้ม แล้วก็สีเขียว แล้วก็เปลี่ยนเป็นสีอื่นไปอีก"
      ],
      "execution_count": null,
      "outputs": [
        {
          "output_type": "display_data",
          "data": {
            "text/plain": [
              "<Figure size 640x480 with 1 Axes>"
            ],
            "image/png": "[encoded data removed]"
          },
          "metadata": {}
        }
      ]
    },
    {
      "cell_type": "markdown",
      "source": [
        "# แบบฝึกหัด\n",
        "ให้นักศึกษาวาดกราฟที่มี scale เริ่มต้นตั้งแต่ 1 จนถึง 5   และสัญลักษณ์เส้นเป็นตามภาพ\n",
        "\n",
        "![download.png](data:image/png;base64,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)"
      ],
      "metadata": {
        "id": "bj51Gx-5E6Qp"
      }
    },
    {
      "cell_type": "code",
      "source": [
        "x = range(5)\n",
        "plt.plot(x, [x1 for x1 in x],ls='dotted') #-', '--', '-.', ':', 'None', ' ', '', 'solid', 'dashed', 'dashdot', 'dotted'\n",
        "plt.plot(x, [x1*x1 for x1 in x],ls='solid')\n",
        "plt.plot(x, [x1*x1*x1 for x1 in x],ls='--')\n",
        "plt.xlim(0, 4) # The scale of the plot can also be set using xlim() and ylim()\n",
        "plt.ylim(0, 80)\n",
        "plt.grid(True)\n",
        "plt.show()"
      ],
      "metadata": {
        "id": "xOC-2NzkGCJK",
        "colab": {
          "base_uri": "https://localhost:8080/",
          "height": 435
        },
        "outputId": "a7426bec-748f-4734-a9c6-a13496fd6eb8"
      },
      "execution_count": null,
      "outputs": [
        {
          "output_type": "display_data",
          "data": {
            "text/plain": [
              "<Figure size 640x480 with 1 Axes>"
            ],
            "image/png": "[encoded data removed]"
          },
          "metadata": {}
        }
      ]
    },
    {
      "cell_type": "markdown",
      "metadata": {
        "id": "pSqrpvrBiaf-"
      },
      "source": [
        "##Adding Labels, Title, and Legend"
      ]
    },
    {
      "cell_type": "code",
      "metadata": {
        "id": "BnGSKAGBivkv",
        "colab": {
          "base_uri": "https://localhost:8080/",
          "height": 472
        },
        "outputId": "1dbbb89f-b545-48e2-d96f-f8558885d336"
      },
      "source": [
        "x = np.arange(5)\n",
        "plt.plot(x, x, label = 'linear',ls='--')\n",
        "plt.plot(x, x*x, label = 'square',ls='-')\n",
        "plt.plot(x, x*x*x, label = 'cube',ls=':')\n",
        "plt.grid(True)\n",
        "plt.xlabel('X-axis')\n",
        "plt.ylabel('Y-axis')\n",
        "plt.title(\"Polynomial Graph\")\n",
        "plt.legend() #Legends explain the meaning of each line in the graph\n",
        "plt.show()"
      ],
      "execution_count": null,
      "outputs": [
        {
          "output_type": "display_data",
          "data": {
            "text/plain": [
              "<Figure size 640x480 with 1 Axes>"
            ],
            "image/png": "[encoded data removed]"
          },
          "metadata": {}
        }
      ]
    },
    {
      "cell_type": "markdown",
      "metadata": {
        "id": "xSWWpNVei_2O"
      },
      "source": [
        "##Adding a Markers"
      ]
    },
    {
      "cell_type": "code",
      "metadata": {
        "id": "Fyp5Nv-WjCN0",
        "colab": {
          "base_uri": "https://localhost:8080/",
          "height": 430
        },
        "outputId": "4039c16c-e410-4dd5-cf0a-98f42e7bb69b"
      },
      "source": [
        "x = [1, 2, 3, 4, 5, 6]\n",
        "y = [11, 22, 33, 44, 55, 66]\n",
        "plt.plot(x, y, 'o--k') #bo is blue   '-.^g', 'o--m', 'rD:'\n",
        "for i in range(len(x)):\n",
        "    x_cord = x[i]\n",
        "    y_cord = y[i]\n",
        "    plt.text(x_cord, y_cord, (x_cord, y_cord), fontsize = 9)\n",
        "plt.show()"
      ],
      "execution_count": null,
      "outputs": [
        {
          "output_type": "display_data",
          "data": {
            "text/plain": [
              "<Figure size 640x480 with 1 Axes>"
            ],
            "image/png": "[encoded data removed]"
          },
          "metadata": {}
        }
      ]
    },
    {
      "cell_type": "markdown",
      "source": [
        "# แบบฝึกหัด\n",
        " ใส่ Marker ให้กับกราฟสามเส้นด้านบน"
      ],
      "metadata": {
        "id": "Npl6WpTX-5ob"
      }
    },
    {
      "cell_type": "code",
      "source": [
        "x = np.arange(5)\n",
        "plt.plot(x, x, 'o--m', label = 'linear')\n",
        "plt.plot(x, x*x, '-^g', label = 'square')\n",
        "plt.plot(x, x*x*x, 'rD:', label = 'cube')\n",
        "for i in range(len(x)):\n",
        "    x_cord = x[i]\n",
        "    y_cord = x[i]\n",
        "    plt.text(x_cord, y_cord, (x_cord, y_cord), fontsize = 9)\n",
        "\n",
        "    x_cord = x[i]\n",
        "    y_cord = x[i]*x[i]\n",
        "    plt.text(x_cord, y_cord, (x_cord, y_cord), fontsize = 9)\n",
        "\n",
        "    x_cord = x[i]\n",
        "    y_cord = x[i]*x[i]*x[i]\n",
        "    plt.text(x_cord, y_cord, (x_cord, y_cord), fontsize = 9)\n",
        "\n",
        "plt.grid(True)\n",
        "plt.xlabel('X-axis')\n",
        "plt.ylabel('Y-axis')\n",
        "plt.title(\"Wuttiphong Srangmai\")\n",
        "plt.legend() #Legends explain the meaning of each line in the graph\n",
        "plt.savefig('plot6406021622079.png')\n",
        "plt.show()"
      ],
      "metadata": {
        "colab": {
          "base_uri": "https://localhost:8080/",
          "height": 472
        },
        "id": "0MMROvfg-4uj",
        "outputId": "7023eefe-c59f-4ab7-bdaf-bfa844634f42"
      },
      "execution_count": null,
      "outputs": [
        {
          "output_type": "display_data",
          "data": {
            "text/plain": [
              "<Figure size 640x480 with 1 Axes>"
            ],
            "image/png": "[encoded data removed]"
          },
          "metadata": {}
        }
      ]
    },
    {
      "cell_type": "markdown",
      "metadata": {
        "id": "tm2UW3wujRQQ"
      },
      "source": [
        "##Saving Plots"
      ]
    },
    {
      "cell_type": "code",
      "metadata": {
        "id": "CHGS0FStjS-Q",
        "colab": {
          "base_uri": "https://localhost:8080/",
          "height": 472
        },
        "outputId": "aa78f3c8-bff7-48cc-b97d-5652ff00e4b9"
      },
      "source": [
        "# Plots can be saved using savefig()\n",
        "x = np.arange(5)\n",
        "plt.plot(x, x, label = 'linear')\n",
        "plt.plot(x, x*x, label = 'square')\n",
        "plt.plot(x, x*x*x, label = 'cube')\n",
        "plt.grid(True)\n",
        "plt.xlabel('X-axis')\n",
        "plt.ylabel('Y-axis')\n",
        "plt.title(\"Polynomial Graph\")\n",
        "plt.legend()\n",
        "plt.savefig('plot.png') # Saves an image names 'plot.png' in the current directory\n",
        "plt.show()"
      ],
      "execution_count": null,
      "outputs": [
        {
          "output_type": "display_data",
          "data": {
            "text/plain": [
              "<Figure size 640x480 with 1 Axes>"
            ],
            "image/png": "[encoded data removed]"
          },
          "metadata": {}
        }
      ]
    },
    {
      "cell_type": "markdown",
      "metadata": {
        "id": "70_u1aW8kJDo"
      },
      "source": [
        "##**Plot Types**"
      ]
    },
    {
      "cell_type": "markdown",
      "metadata": {
        "id": "U6iP4lzSkNP6"
      },
      "source": [
        "Matplotlib provides many types of plot formats for visualising information\n",
        "\n",
        "1. Histogram\n",
        "2. Bar Graph\n",
        "3. Pie Chart\n",
        "4. Scatter Plot\n",
        "5. Boxplot\n",
        "\n",
        "เราต้องประกาศก่อน โดยใช้\n",
        "\n",
        "```\n",
        "import matplotlib.pyplot as plt\n",
        "```"
      ]
    },
    {
      "cell_type": "markdown",
      "metadata": {
        "id": "HR79Se0ikUCO"
      },
      "source": [
        "###**Histogram**\n",
        "Histograms display the distribution of a variable over a range of frequencies or values\n",
        "\n",
        "matplotlib มี functiob ที่ใช้สร้าง Histograms คือ plt.hist\n",
        "\n",
        "hist ต้องการ argument 1 ตัวคือกลุ่มข้อมูลที่ต้องการนำมาแจกแจงความถี่\n",
        "\n",
        "และต้องการ bins คือจำนวนช่วงของข้อมูลที่ต้องการแบ่ง Default = 10"
      ]
    },
    {
      "cell_type": "code",
      "metadata": {
        "id": "KOy6eQ_vkj76",
        "colab": {
          "base_uri": "https://localhost:8080/",
          "height": 742
        },
        "outputId": "e48619a7-fb43-4205-ea56-4dfd92b3762b"
      },
      "source": [
        "import numpy as np\n",
        "import matplotlib.pyplot as plt\n",
        "\n",
        "# Histogram groups values into non-overlapping categories called bins\n",
        "# Default bin value of the histogram plot is 10\n",
        "y1 = np.random.randn(50)\n",
        "y2 = np.random.randn(50)\n",
        "print(y1)\n",
        "print(y2)\n",
        "#plt.hist(y,bins=20,color='g')\n",
        "plt.hist([y1,y2],bins=10)\n",
        "plt.show()"
      ],
      "execution_count": null,
      "outputs": [
        {
          "output_type": "stream",
          "name": "stdout",
          "text": [
            "[-0.14645241  2.5239008  -1.54991567  0.64073681 -0.57088537  1.99126448\n",
            " -0.88089358 -1.01799245  0.67276692 -0.29532633  0.33441011  0.23564329\n",
            "  0.35052242 -0.52814194  0.28712986 -2.20997474  0.15188356 -0.9694591\n",
            "  1.18127034 -1.61347994 -0.87644937  2.07007823  0.43723657  0.17088745\n",
            "  1.31835192 -0.09006028 -0.82857186 -0.6872149   0.20063805 -0.60971809\n",
            " -0.89572906  1.16796881  1.38459291  0.37240361  1.80324729 -0.74204253\n",
            "  0.66807777 -0.44049831  0.31363574  1.28148279  1.01518485 -0.84118923\n",
            "  0.91320396 -1.27845543  1.3947022   0.80950714  0.9942952   0.43610628\n",
            "  0.25145771 -0.47613844]\n",
            "[ 0.19204944 -0.91360999 -0.66299014 -0.89582406 -0.93293428 -1.22201304\n",
            " -0.55167425  1.91108437  0.66787405  0.7649142   2.23458365  2.03607104\n",
            " -0.8369141  -0.17534629 -0.35466321  0.13252212  1.28070051 -1.11876728\n",
            "  0.74806032  0.37758107 -1.7825803   0.73081663  2.13063336  0.42945112\n",
            "  0.11459014  0.30496912  1.00228838 -0.52372774 -1.0064862  -2.16960653\n",
            "  0.65940361  2.0747143  -0.9094211  -0.58491739 -1.06175797  0.17757655\n",
            " -0.40728083  0.52302435  0.21235925 -0.44746975 -2.93789186  0.51223688\n",
            " -0.20434655 -0.01039617 -0.94047175 -0.11347811 -0.36465654 -0.40557962\n",
            "  1.09903558  1.67992757]\n"
          ]
        },
        {
          "output_type": "display_data",
          "data": {
            "text/plain": [
              "<Figure size 640x480 with 1 Axes>"
            ],
            "image/png": "[encoded data removed]"
          },
          "metadata": {}
        }
      ]
    },
    {
      "cell_type": "markdown",
      "metadata": {
        "id": "Ppj65mzSkqpb"
      },
      "source": [
        "###**Bar Chart**\n",
        "Bar charts are used to visually compare two or more values using rectangular bars\n",
        "\n",
        "สร้างแผนภูมิแท่ง จาก function bar\n",
        "\n",
        "ค่าที่ต้องใช้กำหนดกราฟ\n",
        "\n",
        "คือค่าในแกน x กับ y\n",
        "\n",
        "ค่าในแกน y เป็นความสูงของแท่ง"
      ]
    },
    {
      "cell_type": "code",
      "metadata": {
        "id": "dFu5B5Lnkxul",
        "colab": {
          "base_uri": "https://localhost:8080/",
          "height": 265
        },
        "outputId": "b52cc824-51df-4d32-c33e-821b0c0cc53b"
      },
      "source": [
        "# Default width of each bar is 0.8 units\n",
        "# [1,2,3] Mid-point of the lower face of every bar\n",
        "# [1,4,9] Heights of the successive bars in the plot\n",
        "plt.bar([1,2,3], [1,4,9])\n",
        "plt.show()"
      ],
      "execution_count": null,
      "outputs": [
        {
          "output_type": "display_data",
          "data": {
            "text/plain": [
              "<Figure size 432x288 with 1 Axes>"
            ],
            "image/png": "[encoded data removed]"
          },
          "metadata": {
            "needs_background": "light"
          }
        }
      ]
    },
    {
      "cell_type": "code",
      "metadata": {
        "id": "f4ZiKXevk188",
        "colab": {
          "base_uri": "https://localhost:8080/",
          "height": 265
        },
        "outputId": "00961434-a4cc-4a4b-bcb7-7851b4f3f594"
      },
      "source": [
        "dictionary = {'A':25, 'B':70, 'C':55, 'D':90}\n",
        "for i, key in enumerate(dictionary): #enumerate เป็นคำสั่งสำหรับแจกแจงค่า index และข้อมูลใน index ในรูปแบบทูเพิลในรูปแบบ (Index,Value)\n",
        "    plt.bar(i, dictionary[key]) # Each key-value pair is plotted individually as dictionaries are not iterable\n",
        "plt.show()"
      ],
      "execution_count": null,
      "outputs": [
        {
          "output_type": "display_data",
          "data": {
            "text/plain": [
              "<Figure size 432x288 with 1 Axes>"
            ],
            "image/png": "[encoded data removed]"
          },
          "metadata": {
            "needs_background": "light"
          }
        }
      ]
    },
    {
      "cell_type": "code",
      "metadata": {
        "id": "HwwY4mORk5MO",
        "colab": {
          "base_uri": "https://localhost:8080/",
          "height": 265
        },
        "outputId": "ef33fd29-ad4f-48ef-8802-bbf9d39c2b21"
      },
      "source": [
        "dictionary = {'A':25, 'B':70, 'C':55, 'D':90}\n",
        "for i, key in enumerate(dictionary):\n",
        "    plt.bar(i, dictionary[key])\n",
        "plt.xticks(np.arange(len(dictionary)), dictionary.keys()) # เพิ่มคีย์เวิร์ด xticks และ yticks โดยใส่ค่าที่ต้องใส่คือลิสต์หรืออาเรย์ไล่เรียงตำแหน่งขีด\n",
        "plt.show()"
      ],
      "execution_count": null,
      "outputs": [
        {
          "output_type": "display_data",
          "data": {
            "text/plain": [
              "<Figure size 432x288 with 1 Axes>"
            ],
            "image/png": "[encoded data removed]"
          },
          "metadata": {
            "needs_background": "light"
          }
        }
      ]
    },
    {
      "cell_type": "markdown",
      "metadata": {
        "id": "udZUbGoek_XH"
      },
      "source": [
        "###**Pie Chart**\n",
        "\n",
        "การสร้างแผนภูมิวงกลม ใช้ฟังก์ชัน pie โดยใส่argumentเป็น list หรือ array ของปริมาณตัวต่างๆ\n",
        "\n",
        "ดูตัวอย่างเพิ่มเติมได้จากเว็บ https://phyblas.hinaboshi.com/numa14"
      ]
    },
    {
      "cell_type": "code",
      "metadata": {
        "id": "t24KZ-1IlBNC",
        "colab": {
          "base_uri": "https://localhost:8080/",
          "height": 303
        },
        "outputId": "4f15130a-57bc-4050-8f68-ae487e9be057"
      },
      "source": [
        "plt.figure(figsize = (5,5)) # Size of the plot in inches\n",
        "x = [40, 20, 5] # Proportions of the sectors\n",
        "labels = ['Bikes', 'Cars', 'Buses']\n",
        "plt.pie(x, labels = labels)\n",
        "plt.show()"
      ],
      "execution_count": null,
      "outputs": [
        {
          "output_type": "display_data",
          "data": {
            "text/plain": [
              "<Figure size 360x360 with 1 Axes>"
            ],
            "image/png": "[encoded data removed]"
          },
          "metadata": {}
        }
      ]
    },
    {
      "cell_type": "markdown",
      "metadata": {
        "id": "nB_vfJ-llKjz"
      },
      "source": [
        "###**Scatter Plot**\n",
        "Scatter plots display values for two sets of data, visualised as a collection of points\n",
        "\n",
        "เป็นกราฟที่แสดงการกระจายของข้อมูล ทำให้เห็นการแจกแจงของค่าต่างๆบนกราฟได้ด้วย\n",
        "\n",
        "ใช้ function\n",
        "```\n",
        "plt.scatter\n",
        "```\n",
        "ตัวอย่างเช่น"
      ]
    },
    {
      "cell_type": "code",
      "metadata": {
        "id": "mRr5gsqUlQEn",
        "colab": {
          "base_uri": "https://localhost:8080/",
          "height": 265
        },
        "outputId": "e6dc7d74-f5f6-455c-86f0-622ad5d0b73b"
      },
      "source": [
        "# Two Gaussion distribution plotted\n",
        "x = np.random.rand(1000)\n",
        "y = np.random.rand(1000)\n",
        "#plt.figure(figsize=[7,7]) # กำหนดขนาดภาพให้เป็นจตุรัส\n",
        "plt.scatter(x, y)\n",
        "plt.show()"
      ],
      "execution_count": null,
      "outputs": [
        {
          "output_type": "display_data",
          "data": {
            "text/plain": [
              "<Figure size 432x288 with 1 Axes>"
            ],
            "image/png": "[encoded data removed]"
          },
          "metadata": {
            "needs_background": "light"
          }
        }
      ]
    },
    {
      "cell_type": "markdown",
      "metadata": {
        "id": "GoKiuJUW5Soi"
      },
      "source": [
        "###Boxplots\n",
        "หรือ box and whisker plots\n",
        "\n",
        "เป็นหนึ่งในการแสดงกราฟข้อมูล Data Visualization ที่ช่วยทำให้เราเห็นลักษณะการกระจายของข้อมูล รวมถึง Outlier ได้เป็นอย่างดี\n",
        "\n",
        "เราจะเรียกใช้โดย\n",
        "\n",
        "```\n",
        "plt.boxplot(data)\n",
        "```\n",
        "ขอขอบคุณเว็บ https://matplotlib.org/3.2.2/api/_as_gen/matplotlib.pyplot.boxplot.html\n",
        "ตัวอย่างเช่น"
      ]
    },
    {
      "cell_type": "code",
      "metadata": {
        "id": "KHkxm61Y5Utf",
        "colab": {
          "base_uri": "https://localhost:8080/",
          "height": 264
        },
        "outputId": "02d2b043-7dc1-40bc-fed0-09ad05a96c6c"
      },
      "source": [
        "# Import libraries\n",
        "import matplotlib.pyplot as plt\n",
        "import numpy as np\n",
        "\n",
        "\n",
        "# Creating dataset\n",
        "np.random.seed(10)\n",
        "\n",
        "# ก็เป็นฟังก์ชันที่สร้างการสุ่มที่มีการแจกแจงแบบปกติเช่นกัน เพียงแต่สามารถกำหนดค่ากลางและค่าเบี่ยงเบนมาตรฐาน\n",
        "#ได้โดยอาร์กิวเมนต์ที่ต้องใส่ ตัวแรกคือค่ากลาง ตัวที่สองคือส่วนเบี่ยงเบนมาตรฐาน\n",
        "# และตัวที่สามคือขนาดของอาเรย์ที่ต้องการ ถ้าไม่ใส่ขนาดของอาเรย์จะได้เป็นค่าตัวเลขสุ่มค่าเดียวออกมา\n",
        "data1 = np.random.normal(100, 10, 200)\n",
        "#print(data1)\n",
        "data2 = np.random.normal(90, 20, 200)\n",
        "mydata = [data1, data2]\n",
        "\n",
        "fig = plt.figure(figsize =(5, 3))\n",
        "\n",
        "# Creating axes instance\n",
        "ax = fig.add_axes([0, 0, 1, 1])  #\t[left, bottom, width, height]\n",
        "\n",
        "# Creating plot\n",
        "bp = ax.boxplot(mydata)\n",
        "\n",
        "# show plot\n",
        "plt.show()"
      ],
      "execution_count": null,
      "outputs": [
        {
          "output_type": "display_data",
          "data": {
            "text/plain": [
              "<Figure size 360x216 with 1 Axes>"
            ],
            "image/png": "[encoded data removed]"
          },
          "metadata": {
            "needs_background": "light"
          }
        }
      ]
    },
    {
      "cell_type": "markdown",
      "metadata": {
        "id": "OJc8VHoYC_X4"
      },
      "source": [
        "##แบบฝึกหัด WS#2.3\n",
        "จากข้อมูลที่เก็บไว้ในตัวแปร data1, และ data2 ในตัวอย่างด้านบน\n",
        " ขอให้นักศึกษานำมาสร้างกราฟ Scatter Plot\n",
        "\n",
        "และจากข้อมูลที่เก็บไว้ในตัวแปร data1 ในตัวอย่างด้านบน ขอให้นักศึกษานำมาสร้างกราฟ Histogram โดยกำหนดจำนวนช่องที่ต้องการแบ่งเป็น 20"
      ]
    },
    {
      "cell_type": "code",
      "metadata": {
        "id": "N_7R6uKn9EEy"
      },
      "source": [
        "#เขียน code สร้างกราฟ Scatter Plot ลงไปที่นี่\n"
      ],
      "execution_count": null,
      "outputs": []
    },
    {
      "cell_type": "code",
      "metadata": {
        "id": "ukVgKP1w91tU"
      },
      "source": [
        "#เขียน code สร้างกราฟ Histogram  ลงไปที่นี่\n"
      ],
      "execution_count": null,
      "outputs": []
    },
    {
      "cell_type": "markdown",
      "metadata": {
        "id": "63jC3Ydo73gO"
      },
      "source": [
        "##แบบฝึกหัด WS#2.4\n",
        "\n",
        "เพื่อสะดวกในการเรียนรู้ ขอให้นักศึกษา download file ชื่อ iris.csv จากเว็บ https://is.gd/ZH7vRa\n",
        "\n",
        "นำไว้บนเครื่องขอตนเองก่อน จากนั้น ให้คัดลอกไฟล์ดังกล่าวไปไว้บน google drive ของตนเอง\n",
        "\n",
        "เช่น ในตัวอย่าง google drive เก็บไฟล์ iris.csv ไว้ใน folder ชื่อ dataset\n",
        "\n",
        "จากนั้น เราจะทำการ drive mount"
      ]
    },
    {
      "cell_type": "code",
      "metadata": {
        "id": "B9-7vGdY77pl",
        "colab": {
          "base_uri": "https://localhost:8080/"
        },
        "outputId": "48866db6-56de-469a-f639-356cfd305b65"
      },
      "source": [
        "from google.colab import drive\n",
        "drive.mount('/content/drive')"
      ],
      "execution_count": null,
      "outputs": [
        {
          "output_type": "stream",
          "name": "stdout",
          "text": [
            "Mounted at /content/drive\n"
          ]
        }
      ]
    },
    {
      "cell_type": "code",
      "metadata": {
        "id": "8L6zWLx78CZ-",
        "colab": {
          "base_uri": "https://localhost:8080/"
        },
        "outputId": "85c9d07d-008b-47a4-e8b8-4bf514fa4de4"
      },
      "source": [
        "import pandas as pd\n",
        "\n",
        "iris = '/content/drive/My Drive/Colab Notebooks/dataset/iris.csv'\n",
        "data = pd.read_csv(iris)\n",
        "print(data.head(10))\n",
        "#print(data.describe())\n",
        "#print(data.info() )"
      ],
      "execution_count": null,
      "outputs": [
        {
          "output_type": "stream",
          "name": "stdout",
          "text": [
            "   sepal_length  sepal_width  petal_length  petal_width species\n",
            "0           5.1          3.5           1.4          0.2  setosa\n",
            "1           4.9          3.0           1.4          0.2  setosa\n",
            "2           4.7          3.2           1.3          0.2  setosa\n",
            "3           4.6          3.1           1.5          0.2  setosa\n",
            "4           5.0          3.6           1.4          0.2  setosa\n",
            "5           5.4          3.9           1.7          0.4  setosa\n",
            "6           4.6          3.4           1.4          0.3  setosa\n",
            "7           5.0          3.4           1.5          0.2  setosa\n",
            "8           4.4          2.9           1.4          0.2  setosa\n",
            "9           4.9          3.1           1.5          0.1  setosa\n"
          ]
        }
      ]
    },
    {
      "cell_type": "code",
      "metadata": {
        "id": "oQoTi1nrNKtK",
        "colab": {
          "base_uri": "https://localhost:8080/",
          "height": 259
        },
        "outputId": "8520b98a-12a1-4710-b9d6-03b865581f16"
      },
      "source": [
        "plt.figure(figsize = (5, 3))\n",
        "x = data['sepal_length']\n",
        "plt.hist(x, bins = 20, color = 'green')\n",
        "plt.title('Sepal Length in cm')\n",
        "plt.xlabel('Sepal_Length_cm')\n",
        "plt.ylabel('Count')"
      ],
      "execution_count": null,
      "outputs": [
        {
          "output_type": "execute_result",
          "data": {
            "text/plain": [
              "Text(0, 0.5, 'Count')"
            ]
          },
          "metadata": {},
          "execution_count": 14
        },
        {
          "output_type": "display_data",
          "data": {
            "text/plain": [
              "<Figure size 360x216 with 1 Axes>"
            ],
            "image/png": "[encoded data removed]"
          },
          "metadata": {
            "needs_background": "light"
          }
        }
      ]
    },
    {
      "cell_type": "markdown",
      "metadata": {
        "id": "0ybTyLXkSYI3"
      },
      "source": [
        "จากข้อมูล iris data ขอให้นักศึกษานำมาสร้างกราฟ boxpot"
      ]
    },
    {
      "cell_type": "code",
      "metadata": {
        "id": "5jicKntoRx_9",
        "colab": {
          "base_uri": "https://localhost:8080/",
          "height": 552
        },
        "outputId": "87bd4031-6c13-49b3-de2e-6de6997be82c"
      },
      "source": [
        "mydata = [ data['sepal_length'] , data['sepal_width'] ,data['petal_length'],data['petal_width']]\n",
        "#เขียน code สร้างกราฟ  ลงไปที่นี่\n"
      ],
      "execution_count": null,
      "outputs": [
        {
          "output_type": "display_data",
          "data": {
            "text/plain": [
              "<Figure size 720x504 with 1 Axes>"
            ],
            "image/png": "[encoded data removed]"
          },
          "metadata": {
            "needs_background": "light"
          }
        }
      ]
    }
  ]
}